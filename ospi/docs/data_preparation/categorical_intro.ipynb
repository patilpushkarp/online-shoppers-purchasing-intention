{
 "cells": [
  {
   "cell_type": "markdown",
   "id": "tribal-fifty",
   "metadata": {},
   "source": [
    "# Introduction to categorical features"
   ]
  },
  {
   "cell_type": "code",
   "execution_count": 1,
   "id": "historic-india",
   "metadata": {},
   "outputs": [],
   "source": [
    "# Import necessary packages\n",
    "import pandas as pd"
   ]
  },
  {
   "cell_type": "code",
   "execution_count": 2,
   "id": "scheduled-relationship",
   "metadata": {},
   "outputs": [],
   "source": [
    "# Load file into dataframe\n",
    "df = pd.read_csv('./../../../datasets/online_shoppers_intention.csv')"
   ]
  },
  {
   "cell_type": "markdown",
   "id": "curious-ghost",
   "metadata": {},
   "source": [
    "## Column description"
   ]
  },
  {
   "cell_type": "markdown",
   "id": "regulation-allowance",
   "metadata": {},
   "source": [
    "Following are the categorical features present in the dataset:\n",
    "\n",
    "### OperatingSystems \n",
    "\n",
    "Operating system of the visitor. This column is already encoded and the true values are not available.\n",
    "\n",
    "### Browser\n",
    "\n",
    "Browser of the visitor. This column is already encoded and true values are not available.\n",
    "\n",
    "### Region \n",
    "\n",
    "Geographic region from which the session has been started by the visitor. This column is already encoded and true values are not available.\n",
    "\n",
    "### TrafficType \n",
    "\n",
    "Traffic source by which the visitor has arrived at the Web site (e.g., banner, SMS, direct). This column is already encoded and true values are not available.\n",
    "\n",
    "### VisitorType \n",
    "\n",
    "Visitor type as ‘‘New Visitor,’’ ‘‘Returning Visitor,’’ and ‘‘Other’’. The details of what are all visitors are included in ''Other'' is unknown.\n",
    "\n",
    "### Weekend\n",
    "\n",
    "Boolean value indicating whether the date of the visit is weekend\n",
    "\n",
    "### Month \n",
    "\n",
    "Month value of the visit date\n",
    "\n",
    "### Revenue\n",
    "\n",
    "Class label indicating whether the visit has been finalized with a transaction. This is the **target** variable."
   ]
  },
  {
   "cell_type": "code",
   "execution_count": 6,
   "id": "golden-consistency",
   "metadata": {},
   "outputs": [],
   "source": [
    "# Select categorical features\n",
    "categorical_columns = ['OperatingSystems', 'Browser', 'Region', 'TrafficType', 'VisitorType', 'Weekend', 'Month', \n",
    "                       'Revenue']\n",
    "df = df[categorical_columns]"
   ]
  },
  {
   "cell_type": "markdown",
   "id": "sized-identification",
   "metadata": {},
   "source": [
    "## Column statistics"
   ]
  },
  {
   "cell_type": "code",
   "execution_count": 8,
   "id": "happy-emphasis",
   "metadata": {},
   "outputs": [
    {
     "name": "stdout",
     "output_type": "stream",
     "text": [
      "<class 'pandas.core.frame.DataFrame'>\n",
      "RangeIndex: 12330 entries, 0 to 12329\n",
      "Data columns (total 8 columns):\n",
      " #   Column            Non-Null Count  Dtype \n",
      "---  ------            --------------  ----- \n",
      " 0   OperatingSystems  12330 non-null  int64 \n",
      " 1   Browser           12330 non-null  int64 \n",
      " 2   Region            12330 non-null  int64 \n",
      " 3   TrafficType       12330 non-null  int64 \n",
      " 4   VisitorType       12330 non-null  object\n",
      " 5   Weekend           12330 non-null  bool  \n",
      " 6   Month             12330 non-null  object\n",
      " 7   Revenue           12330 non-null  bool  \n",
      "dtypes: bool(2), int64(4), object(2)\n",
      "memory usage: 602.2+ KB\n"
     ]
    }
   ],
   "source": [
    "# Data information\n",
    "df.info()"
   ]
  },
  {
   "cell_type": "markdown",
   "id": "municipal-independence",
   "metadata": {},
   "source": [
    "Eventhough the selected features are categorical, some of the categorical features are already encoded and are represented in number. 'VisitorType' and 'Month' are not encoded and are available in string format."
   ]
  },
  {
   "cell_type": "code",
   "execution_count": 7,
   "id": "bizarre-nutrition",
   "metadata": {},
   "outputs": [
    {
     "data": {
      "text/html": [
       "<div>\n",
       "<style scoped>\n",
       "    .dataframe tbody tr th:only-of-type {\n",
       "        vertical-align: middle;\n",
       "    }\n",
       "\n",
       "    .dataframe tbody tr th {\n",
       "        vertical-align: top;\n",
       "    }\n",
       "\n",
       "    .dataframe thead th {\n",
       "        text-align: right;\n",
       "    }\n",
       "</style>\n",
       "<table border=\"1\" class=\"dataframe\">\n",
       "  <thead>\n",
       "    <tr style=\"text-align: right;\">\n",
       "      <th></th>\n",
       "      <th>Column</th>\n",
       "      <th>Number of unique values</th>\n",
       "    </tr>\n",
       "  </thead>\n",
       "  <tbody>\n",
       "    <tr>\n",
       "      <th>0</th>\n",
       "      <td>OperatingSystems</td>\n",
       "      <td>8</td>\n",
       "    </tr>\n",
       "    <tr>\n",
       "      <th>1</th>\n",
       "      <td>Browser</td>\n",
       "      <td>13</td>\n",
       "    </tr>\n",
       "    <tr>\n",
       "      <th>2</th>\n",
       "      <td>Region</td>\n",
       "      <td>9</td>\n",
       "    </tr>\n",
       "    <tr>\n",
       "      <th>3</th>\n",
       "      <td>TrafficType</td>\n",
       "      <td>20</td>\n",
       "    </tr>\n",
       "    <tr>\n",
       "      <th>4</th>\n",
       "      <td>VisitorType</td>\n",
       "      <td>3</td>\n",
       "    </tr>\n",
       "    <tr>\n",
       "      <th>5</th>\n",
       "      <td>Weekend</td>\n",
       "      <td>2</td>\n",
       "    </tr>\n",
       "    <tr>\n",
       "      <th>6</th>\n",
       "      <td>Month</td>\n",
       "      <td>10</td>\n",
       "    </tr>\n",
       "    <tr>\n",
       "      <th>7</th>\n",
       "      <td>Revenue</td>\n",
       "      <td>2</td>\n",
       "    </tr>\n",
       "  </tbody>\n",
       "</table>\n",
       "</div>"
      ],
      "text/plain": [
       "             Column  Number of unique values\n",
       "0  OperatingSystems                        8\n",
       "1           Browser                       13\n",
       "2            Region                        9\n",
       "3       TrafficType                       20\n",
       "4       VisitorType                        3\n",
       "5           Weekend                        2\n",
       "6             Month                       10\n",
       "7           Revenue                        2"
      ]
     },
     "execution_count": 7,
     "metadata": {},
     "output_type": "execute_result"
    }
   ],
   "source": [
    "# Find number of unique values in each categorical feature\n",
    "unique_cnt_df = pd.DataFrame(columns=['Column', 'Number of unique values'])\n",
    "unique_cnt_df['Column'] = categorical_columns\n",
    "unique_cnt_df['Number of unique values'] = unique_cnt_df['Column'].apply(lambda x: df[x].nunique())\n",
    "unique_cnt_df"
   ]
  },
  {
   "cell_type": "markdown",
   "id": "broadband-charlotte",
   "metadata": {},
   "source": [
    "The column month is expected to have 12 unique values but has only 10. "
   ]
  }
 ],
 "metadata": {
  "kernelspec": {
   "display_name": "Python 3",
   "language": "python",
   "name": "python3"
  },
  "language_info": {
   "codemirror_mode": {
    "name": "ipython",
    "version": 3
   },
   "file_extension": ".py",
   "mimetype": "text/x-python",
   "name": "python",
   "nbconvert_exporter": "python",
   "pygments_lexer": "ipython3",
   "version": "3.8.8"
  }
 },
 "nbformat": 4,
 "nbformat_minor": 5
}
