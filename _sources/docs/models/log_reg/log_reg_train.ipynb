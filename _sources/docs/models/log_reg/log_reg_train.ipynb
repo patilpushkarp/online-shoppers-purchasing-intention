{
  "nbformat": 4,
  "nbformat_minor": 0,
  "metadata": {
    "colab": {
      "name": "log_reg_train.ipynb",
      "provenance": [],
      "collapsed_sections": []
    },
    "kernelspec": {
      "name": "python3",
      "display_name": "Python 3"
    },
    "accelerator": "GPU"
  },
  "cells": [
    {
      "cell_type": "markdown",
      "metadata": {
        "id": "GfBGlmxKBoka"
      },
      "source": [
        "# Logistic Regression"
      ]
    },
    {
      "cell_type": "markdown",
      "metadata": {
        "id": "9k6koBklHjgY"
      },
      "source": [
        "```{tip}\n",
        "It is recommended to use google colaboratory for running the notebook.\n",
        "```"
      ]
    },
    {
      "cell_type": "code",
      "metadata": {
        "id": "ZciLXqAlI8t7"
      },
      "source": [
        "# Extra libraries required\n",
        "\n",
        "# Install ray tune\n",
        "# ! pip install tune-sklearn ray[tune]\n",
        "\n",
        "# Install shap\n",
        "# ! pip install shap"
      ],
      "execution_count": 20,
      "outputs": []
    },
    {
      "cell_type": "markdown",
      "metadata": {
        "id": "xXOaLcOMDU93"
      },
      "source": [
        "Logistic regression is the special case if linear regression. The main concept underlying a logistic regssion is the natural log of odds. Consider a simplest case of linear regression with one continuous predictor $X$ and a dichotomous outcome $Y$. The plot of such a case results in two parallel lines which are difficult for ordinary linear regression to fit. Instead, the predictor $X$ is grouped into various categories and comput the mean of outcome variable for those groups. The resultant plot can be approximated by a sigmoid function. Even signmoid is difficult to be fit by a linear regression. But this issue can be dealt by applying logit transformation to the dependent variable. The simplest logistic regression model is represented by,  \n",
        "$$\n",
        "logit(Y) = natural\\_log (odds) = ln\\bigg(\\frac{\\pi}{1-\\pi}\\bigg) = \\alpha + \\beta x \\tag{1}\n",
        "$$\n",
        "\n",
        "To find the probability of an outcome, take the antilog of both the sides of (\\ref{eq1}). Euation (\\ref{eq1}) is necessary to make the relationship between the predictor and the dependent variable linear. {cite}`peng2002`\n",
        "One of the major advantage of the logistic regression is that the equation of probability is simple. This allows it to be applied to large datasets. But the major con of this method is that it can not map the non linear relationships peoperly. \n"
      ]
    },
    {
      "cell_type": "code",
      "metadata": {
        "id": "jJ7LUjK-BSYF"
      },
      "source": [
        "# Import necessary packages\n",
        "import pandas as pd\n",
        "from imblearn.over_sampling import SMOTE\n",
        "from sklearn.preprocessing import MinMaxScaler\n",
        "from sklearn.model_selection import train_test_split, StratifiedKFold\n",
        "from sklearn.feature_selection import GenericUnivariateSelect, chi2, f_classif, mutual_info_classif\n",
        "from sklearn.linear_model import LogisticRegression\n",
        "from sklearn.pipeline import Pipeline\n",
        "from sklearn.metrics import classification_report\n",
        "import shap\n",
        "import plotly.express as px"
      ],
      "execution_count": 21,
      "outputs": []
    },
    {
      "cell_type": "markdown",
      "metadata": {
        "id": "xwkpdKQ3IO5l"
      },
      "source": [
        "```{margin}\n",
        "Make sure to change the path of file depending upon the environment you are working on.\n",
        "```"
      ]
    },
    {
      "cell_type": "code",
      "metadata": {
        "id": "55guQvSlJM0S"
      },
      "source": [
        "# Load data into dataframe\n",
        "df = pd.read_csv('/content/drive/MyDrive/Colab Notebooks/uci/ospi/datasets/preprocessed_osi.csv')"
      ],
      "execution_count": 22,
      "outputs": []
    },
    {
      "cell_type": "markdown",
      "metadata": {
        "id": "YrJSG0MgJaq2"
      },
      "source": [
        "## Preprocessing"
      ]
    },
    {
      "cell_type": "markdown",
      "metadata": {
        "id": "bf0GXqo8K2ON"
      },
      "source": [
        "Before we perform any preprocessing, it is necessary to separate the data into training set and testing set."
      ]
    },
    {
      "cell_type": "code",
      "metadata": {
        "id": "P9IfbWIzLY_A"
      },
      "source": [
        "y = df['Revenue']\n",
        "X = df.drop('Revenue', axis=1)"
      ],
      "execution_count": 23,
      "outputs": []
    },
    {
      "cell_type": "code",
      "metadata": {
        "id": "Nsv2_pK2LN0u"
      },
      "source": [
        "X_train, X_test, y_train, y_test = train_test_split(X, y, random_state=42)"
      ],
      "execution_count": 24,
      "outputs": []
    },
    {
      "cell_type": "markdown",
      "metadata": {
        "id": "lyXQ9KKhJkMV"
      },
      "source": [
        "Beginning with the focus on target variable. Since our target varaible has highly imbalance entries for transacting and non-transacting users, it is necessary to oversample the class with less entries. For our purpose, we will be using SMOTE to oversample the minority class."
      ]
    },
    {
      "cell_type": "code",
      "metadata": {
        "id": "EZoK5Vn2KfWB",
        "colab": {
          "base_uri": "https://localhost:8080/"
        },
        "outputId": "320c0bcd-5304-45dc-ee0e-8c9dc277cea3"
      },
      "source": [
        "# Oversample the minority class in the target variable\n",
        "oversample = SMOTE()\n",
        "X_train, y_train = oversample.fit_resample(X_train, y_train)"
      ],
      "execution_count": 25,
      "outputs": [
        {
          "output_type": "stream",
          "text": [
            "/usr/local/lib/python3.7/dist-packages/sklearn/utils/deprecation.py:87: FutureWarning:\n",
            "\n",
            "Function safe_indexing is deprecated; safe_indexing is deprecated in version 0.22 and will be removed in version 0.24.\n",
            "\n"
          ],
          "name": "stderr"
        }
      ]
    },
    {
      "cell_type": "markdown",
      "metadata": {
        "id": "En5io6nZMH6X"
      },
      "source": [
        "Also, logistic regression is senistive to the feature ranges. Hence, it is necessary for us to transoform the data into unit norm. For our purpose, we will be utilizing the minmaxscaler API from scikit-learn. MinMaxScaler will not affect the categorical features unlike StandardScaler. "
      ]
    },
    {
      "cell_type": "code",
      "metadata": {
        "id": "zWUE5W9ZL94v"
      },
      "source": [
        "# Scale the data\n",
        "transformer = MinMaxScaler()\n",
        "X_train = transformer.fit_transform(X_train)\n",
        "\n",
        "# Apply same transformation to test set\n",
        "X_test = transformer.transform(X_test)"
      ],
      "execution_count": 26,
      "outputs": []
    },
    {
      "cell_type": "markdown",
      "metadata": {
        "id": "j3SShPItNpki"
      },
      "source": [
        "## Model Training"
      ]
    },
    {
      "cell_type": "code",
      "metadata": {
        "id": "1jk50SG4Q21B"
      },
      "source": [
        "# Declare the model\n",
        "estimator = LogisticRegression()\n",
        "\n",
        "# Declare cross-validation method\n",
        "cv = StratifiedKFold()\n",
        "\n",
        "# Declare parameter grid to for each component of pipeline\n",
        "param_grid = dict(\n",
        "    C = [0.001, 0.1, 1, 10, 100],\n",
        "    solver = ['liblinear', 'lbfgs', 'newton-cg', 'sag', 'saga'],\n",
        "    max_iter = [100, 150, 200]\n",
        ")"
      ],
      "execution_count": 27,
      "outputs": []
    },
    {
      "cell_type": "code",
      "metadata": {
        "id": "4zL1CPyWUpzn",
        "colab": {
          "base_uri": "https://localhost:8080/"
        },
        "outputId": "2fbed8d4-e49b-48c3-a1e4-55552eff018c"
      },
      "source": [
        "# Import grid search model from tune sklearn\n",
        "from tune_sklearn import TuneGridSearchCV\n",
        "\n",
        "# Train the model\n",
        "logreg_clf = TuneGridSearchCV(estimator=estimator, param_grid=param_grid, scoring='f1', n_jobs=-1, cv=cv, use_gpu=True)\n",
        "logreg_clf.fit(X_train, y_train)"
      ],
      "execution_count": 28,
      "outputs": [
        {
          "output_type": "stream",
          "text": [
            "\u001b[2m\u001b[36m(pid=730)\u001b[0m /usr/local/lib/python3.7/dist-packages/sklearn/linear_model/_logistic.py:940: ConvergenceWarning: lbfgs failed to converge (status=1):\n",
            "\u001b[2m\u001b[36m(pid=730)\u001b[0m STOP: TOTAL NO. of ITERATIONS REACHED LIMIT.\n",
            "\u001b[2m\u001b[36m(pid=730)\u001b[0m \n",
            "\u001b[2m\u001b[36m(pid=730)\u001b[0m Increase the number of iterations (max_iter) or scale the data as shown in:\n",
            "\u001b[2m\u001b[36m(pid=730)\u001b[0m     https://scikit-learn.org/stable/modules/preprocessing.html\n",
            "\u001b[2m\u001b[36m(pid=730)\u001b[0m Please also refer to the documentation for alternative solver options:\n",
            "\u001b[2m\u001b[36m(pid=730)\u001b[0m     https://scikit-learn.org/stable/modules/linear_model.html#logistic-regression\n",
            "\u001b[2m\u001b[36m(pid=730)\u001b[0m   extra_warning_msg=_LOGISTIC_SOLVER_CONVERGENCE_MSG)\n",
            "\u001b[2m\u001b[36m(pid=730)\u001b[0m /usr/local/lib/python3.7/dist-packages/sklearn/linear_model/_logistic.py:940: ConvergenceWarning: lbfgs failed to converge (status=1):\n",
            "\u001b[2m\u001b[36m(pid=730)\u001b[0m STOP: TOTAL NO. of ITERATIONS REACHED LIMIT.\n",
            "\u001b[2m\u001b[36m(pid=730)\u001b[0m \n",
            "\u001b[2m\u001b[36m(pid=730)\u001b[0m Increase the number of iterations (max_iter) or scale the data as shown in:\n",
            "\u001b[2m\u001b[36m(pid=730)\u001b[0m     https://scikit-learn.org/stable/modules/preprocessing.html\n",
            "\u001b[2m\u001b[36m(pid=730)\u001b[0m Please also refer to the documentation for alternative solver options:\n",
            "\u001b[2m\u001b[36m(pid=730)\u001b[0m     https://scikit-learn.org/stable/modules/linear_model.html#logistic-regression\n",
            "\u001b[2m\u001b[36m(pid=730)\u001b[0m   extra_warning_msg=_LOGISTIC_SOLVER_CONVERGENCE_MSG)\n",
            "\u001b[2m\u001b[36m(pid=730)\u001b[0m /usr/local/lib/python3.7/dist-packages/sklearn/linear_model/_logistic.py:940: ConvergenceWarning: lbfgs failed to converge (status=1):\n",
            "\u001b[2m\u001b[36m(pid=730)\u001b[0m STOP: TOTAL NO. of ITERATIONS REACHED LIMIT.\n",
            "\u001b[2m\u001b[36m(pid=730)\u001b[0m \n",
            "\u001b[2m\u001b[36m(pid=730)\u001b[0m Increase the number of iterations (max_iter) or scale the data as shown in:\n",
            "\u001b[2m\u001b[36m(pid=730)\u001b[0m     https://scikit-learn.org/stable/modules/preprocessing.html\n",
            "\u001b[2m\u001b[36m(pid=730)\u001b[0m Please also refer to the documentation for alternative solver options:\n",
            "\u001b[2m\u001b[36m(pid=730)\u001b[0m     https://scikit-learn.org/stable/modules/linear_model.html#logistic-regression\n",
            "\u001b[2m\u001b[36m(pid=730)\u001b[0m   extra_warning_msg=_LOGISTIC_SOLVER_CONVERGENCE_MSG)\n",
            "\u001b[2m\u001b[36m(pid=730)\u001b[0m /usr/local/lib/python3.7/dist-packages/sklearn/linear_model/_logistic.py:940: ConvergenceWarning: lbfgs failed to converge (status=1):\n",
            "\u001b[2m\u001b[36m(pid=730)\u001b[0m STOP: TOTAL NO. of ITERATIONS REACHED LIMIT.\n",
            "\u001b[2m\u001b[36m(pid=730)\u001b[0m \n",
            "\u001b[2m\u001b[36m(pid=730)\u001b[0m Increase the number of iterations (max_iter) or scale the data as shown in:\n",
            "\u001b[2m\u001b[36m(pid=730)\u001b[0m     https://scikit-learn.org/stable/modules/preprocessing.html\n",
            "\u001b[2m\u001b[36m(pid=730)\u001b[0m Please also refer to the documentation for alternative solver options:\n",
            "\u001b[2m\u001b[36m(pid=730)\u001b[0m     https://scikit-learn.org/stable/modules/linear_model.html#logistic-regression\n",
            "\u001b[2m\u001b[36m(pid=730)\u001b[0m   extra_warning_msg=_LOGISTIC_SOLVER_CONVERGENCE_MSG)\n",
            "\u001b[2m\u001b[36m(pid=730)\u001b[0m /usr/local/lib/python3.7/dist-packages/sklearn/linear_model/_logistic.py:940: ConvergenceWarning: lbfgs failed to converge (status=1):\n",
            "\u001b[2m\u001b[36m(pid=730)\u001b[0m STOP: TOTAL NO. of ITERATIONS REACHED LIMIT.\n",
            "\u001b[2m\u001b[36m(pid=730)\u001b[0m \n",
            "\u001b[2m\u001b[36m(pid=730)\u001b[0m Increase the number of iterations (max_iter) or scale the data as shown in:\n",
            "\u001b[2m\u001b[36m(pid=730)\u001b[0m     https://scikit-learn.org/stable/modules/preprocessing.html\n",
            "\u001b[2m\u001b[36m(pid=730)\u001b[0m Please also refer to the documentation for alternative solver options:\n",
            "\u001b[2m\u001b[36m(pid=730)\u001b[0m     https://scikit-learn.org/stable/modules/linear_model.html#logistic-regression\n",
            "\u001b[2m\u001b[36m(pid=730)\u001b[0m   extra_warning_msg=_LOGISTIC_SOLVER_CONVERGENCE_MSG)\n",
            "\u001b[2m\u001b[36m(pid=730)\u001b[0m /usr/local/lib/python3.7/dist-packages/sklearn/linear_model/_logistic.py:940: ConvergenceWarning: lbfgs failed to converge (status=1):\n",
            "\u001b[2m\u001b[36m(pid=730)\u001b[0m STOP: TOTAL NO. of ITERATIONS REACHED LIMIT.\n",
            "\u001b[2m\u001b[36m(pid=730)\u001b[0m \n",
            "\u001b[2m\u001b[36m(pid=730)\u001b[0m Increase the number of iterations (max_iter) or scale the data as shown in:\n",
            "\u001b[2m\u001b[36m(pid=730)\u001b[0m     https://scikit-learn.org/stable/modules/preprocessing.html\n",
            "\u001b[2m\u001b[36m(pid=730)\u001b[0m Please also refer to the documentation for alternative solver options:\n",
            "\u001b[2m\u001b[36m(pid=730)\u001b[0m     https://scikit-learn.org/stable/modules/linear_model.html#logistic-regression\n",
            "\u001b[2m\u001b[36m(pid=730)\u001b[0m   extra_warning_msg=_LOGISTIC_SOLVER_CONVERGENCE_MSG)\n",
            "\u001b[2m\u001b[36m(pid=730)\u001b[0m /usr/local/lib/python3.7/dist-packages/sklearn/linear_model/_logistic.py:940: ConvergenceWarning: lbfgs failed to converge (status=1):\n",
            "\u001b[2m\u001b[36m(pid=730)\u001b[0m STOP: TOTAL NO. of ITERATIONS REACHED LIMIT.\n",
            "\u001b[2m\u001b[36m(pid=730)\u001b[0m \n",
            "\u001b[2m\u001b[36m(pid=730)\u001b[0m Increase the number of iterations (max_iter) or scale the data as shown in:\n",
            "\u001b[2m\u001b[36m(pid=730)\u001b[0m     https://scikit-learn.org/stable/modules/preprocessing.html\n",
            "\u001b[2m\u001b[36m(pid=730)\u001b[0m Please also refer to the documentation for alternative solver options:\n",
            "\u001b[2m\u001b[36m(pid=730)\u001b[0m     https://scikit-learn.org/stable/modules/linear_model.html#logistic-regression\n",
            "\u001b[2m\u001b[36m(pid=730)\u001b[0m   extra_warning_msg=_LOGISTIC_SOLVER_CONVERGENCE_MSG)\n",
            "\u001b[2m\u001b[36m(pid=730)\u001b[0m /usr/local/lib/python3.7/dist-packages/sklearn/linear_model/_logistic.py:940: ConvergenceWarning: lbfgs failed to converge (status=1):\n",
            "\u001b[2m\u001b[36m(pid=730)\u001b[0m STOP: TOTAL NO. of ITERATIONS REACHED LIMIT.\n",
            "\u001b[2m\u001b[36m(pid=730)\u001b[0m \n",
            "\u001b[2m\u001b[36m(pid=730)\u001b[0m Increase the number of iterations (max_iter) or scale the data as shown in:\n",
            "\u001b[2m\u001b[36m(pid=730)\u001b[0m     https://scikit-learn.org/stable/modules/preprocessing.html\n",
            "\u001b[2m\u001b[36m(pid=730)\u001b[0m Please also refer to the documentation for alternative solver options:\n",
            "\u001b[2m\u001b[36m(pid=730)\u001b[0m     https://scikit-learn.org/stable/modules/linear_model.html#logistic-regression\n",
            "\u001b[2m\u001b[36m(pid=730)\u001b[0m   extra_warning_msg=_LOGISTIC_SOLVER_CONVERGENCE_MSG)\n",
            "\u001b[2m\u001b[36m(pid=730)\u001b[0m /usr/local/lib/python3.7/dist-packages/sklearn/linear_model/_logistic.py:940: ConvergenceWarning: lbfgs failed to converge (status=1):\n",
            "\u001b[2m\u001b[36m(pid=730)\u001b[0m STOP: TOTAL NO. of ITERATIONS REACHED LIMIT.\n",
            "\u001b[2m\u001b[36m(pid=730)\u001b[0m \n",
            "\u001b[2m\u001b[36m(pid=730)\u001b[0m Increase the number of iterations (max_iter) or scale the data as shown in:\n",
            "\u001b[2m\u001b[36m(pid=730)\u001b[0m     https://scikit-learn.org/stable/modules/preprocessing.html\n",
            "\u001b[2m\u001b[36m(pid=730)\u001b[0m Please also refer to the documentation for alternative solver options:\n",
            "\u001b[2m\u001b[36m(pid=730)\u001b[0m     https://scikit-learn.org/stable/modules/linear_model.html#logistic-regression\n",
            "\u001b[2m\u001b[36m(pid=730)\u001b[0m   extra_warning_msg=_LOGISTIC_SOLVER_CONVERGENCE_MSG)\n",
            "\u001b[2m\u001b[36m(pid=730)\u001b[0m /usr/local/lib/python3.7/dist-packages/sklearn/linear_model/_logistic.py:940: ConvergenceWarning: lbfgs failed to converge (status=1):\n",
            "\u001b[2m\u001b[36m(pid=730)\u001b[0m STOP: TOTAL NO. of ITERATIONS REACHED LIMIT.\n",
            "\u001b[2m\u001b[36m(pid=730)\u001b[0m \n",
            "\u001b[2m\u001b[36m(pid=730)\u001b[0m Increase the number of iterations (max_iter) or scale the data as shown in:\n",
            "\u001b[2m\u001b[36m(pid=730)\u001b[0m     https://scikit-learn.org/stable/modules/preprocessing.html\n",
            "\u001b[2m\u001b[36m(pid=730)\u001b[0m Please also refer to the documentation for alternative solver options:\n",
            "\u001b[2m\u001b[36m(pid=730)\u001b[0m     https://scikit-learn.org/stable/modules/linear_model.html#logistic-regression\n",
            "\u001b[2m\u001b[36m(pid=730)\u001b[0m   extra_warning_msg=_LOGISTIC_SOLVER_CONVERGENCE_MSG)\n",
            "\u001b[2m\u001b[36m(pid=730)\u001b[0m /usr/local/lib/python3.7/dist-packages/sklearn/linear_model/_logistic.py:940: ConvergenceWarning: lbfgs failed to converge (status=1):\n",
            "\u001b[2m\u001b[36m(pid=730)\u001b[0m STOP: TOTAL NO. of ITERATIONS REACHED LIMIT.\n",
            "\u001b[2m\u001b[36m(pid=730)\u001b[0m \n",
            "\u001b[2m\u001b[36m(pid=730)\u001b[0m Increase the number of iterations (max_iter) or scale the data as shown in:\n",
            "\u001b[2m\u001b[36m(pid=730)\u001b[0m     https://scikit-learn.org/stable/modules/preprocessing.html\n",
            "\u001b[2m\u001b[36m(pid=730)\u001b[0m Please also refer to the documentation for alternative solver options:\n",
            "\u001b[2m\u001b[36m(pid=730)\u001b[0m     https://scikit-learn.org/stable/modules/linear_model.html#logistic-regression\n",
            "\u001b[2m\u001b[36m(pid=730)\u001b[0m   extra_warning_msg=_LOGISTIC_SOLVER_CONVERGENCE_MSG)\n",
            "\u001b[2m\u001b[36m(pid=730)\u001b[0m /usr/local/lib/python3.7/dist-packages/sklearn/linear_model/_logistic.py:940: ConvergenceWarning: lbfgs failed to converge (status=1):\n",
            "\u001b[2m\u001b[36m(pid=730)\u001b[0m STOP: TOTAL NO. of ITERATIONS REACHED LIMIT.\n",
            "\u001b[2m\u001b[36m(pid=730)\u001b[0m \n",
            "\u001b[2m\u001b[36m(pid=730)\u001b[0m Increase the number of iterations (max_iter) or scale the data as shown in:\n",
            "\u001b[2m\u001b[36m(pid=730)\u001b[0m     https://scikit-learn.org/stable/modules/preprocessing.html\n",
            "\u001b[2m\u001b[36m(pid=730)\u001b[0m Please also refer to the documentation for alternative solver options:\n",
            "\u001b[2m\u001b[36m(pid=730)\u001b[0m     https://scikit-learn.org/stable/modules/linear_model.html#logistic-regression\n",
            "\u001b[2m\u001b[36m(pid=730)\u001b[0m   extra_warning_msg=_LOGISTIC_SOLVER_CONVERGENCE_MSG)\n",
            "\u001b[2m\u001b[36m(pid=730)\u001b[0m /usr/local/lib/python3.7/dist-packages/sklearn/linear_model/_logistic.py:940: ConvergenceWarning: lbfgs failed to converge (status=1):\n",
            "\u001b[2m\u001b[36m(pid=730)\u001b[0m STOP: TOTAL NO. of ITERATIONS REACHED LIMIT.\n",
            "\u001b[2m\u001b[36m(pid=730)\u001b[0m \n",
            "\u001b[2m\u001b[36m(pid=730)\u001b[0m Increase the number of iterations (max_iter) or scale the data as shown in:\n",
            "\u001b[2m\u001b[36m(pid=730)\u001b[0m     https://scikit-learn.org/stable/modules/preprocessing.html\n",
            "\u001b[2m\u001b[36m(pid=730)\u001b[0m Please also refer to the documentation for alternative solver options:\n",
            "\u001b[2m\u001b[36m(pid=730)\u001b[0m     https://scikit-learn.org/stable/modules/linear_model.html#logistic-regression\n",
            "\u001b[2m\u001b[36m(pid=730)\u001b[0m   extra_warning_msg=_LOGISTIC_SOLVER_CONVERGENCE_MSG)\n",
            "\u001b[2m\u001b[36m(pid=730)\u001b[0m /usr/local/lib/python3.7/dist-packages/sklearn/linear_model/_logistic.py:940: ConvergenceWarning: lbfgs failed to converge (status=1):\n",
            "\u001b[2m\u001b[36m(pid=730)\u001b[0m STOP: TOTAL NO. of ITERATIONS REACHED LIMIT.\n",
            "\u001b[2m\u001b[36m(pid=730)\u001b[0m \n",
            "\u001b[2m\u001b[36m(pid=730)\u001b[0m Increase the number of iterations (max_iter) or scale the data as shown in:\n",
            "\u001b[2m\u001b[36m(pid=730)\u001b[0m     https://scikit-learn.org/stable/modules/preprocessing.html\n",
            "\u001b[2m\u001b[36m(pid=730)\u001b[0m Please also refer to the documentation for alternative solver options:\n",
            "\u001b[2m\u001b[36m(pid=730)\u001b[0m     https://scikit-learn.org/stable/modules/linear_model.html#logistic-regression\n",
            "\u001b[2m\u001b[36m(pid=730)\u001b[0m   extra_warning_msg=_LOGISTIC_SOLVER_CONVERGENCE_MSG)\n",
            "\u001b[2m\u001b[36m(pid=730)\u001b[0m /usr/local/lib/python3.7/dist-packages/sklearn/linear_model/_logistic.py:940: ConvergenceWarning: lbfgs failed to converge (status=1):\n",
            "\u001b[2m\u001b[36m(pid=730)\u001b[0m STOP: TOTAL NO. of ITERATIONS REACHED LIMIT.\n",
            "\u001b[2m\u001b[36m(pid=730)\u001b[0m \n",
            "\u001b[2m\u001b[36m(pid=730)\u001b[0m Increase the number of iterations (max_iter) or scale the data as shown in:\n",
            "\u001b[2m\u001b[36m(pid=730)\u001b[0m     https://scikit-learn.org/stable/modules/preprocessing.html\n",
            "\u001b[2m\u001b[36m(pid=730)\u001b[0m Please also refer to the documentation for alternative solver options:\n",
            "\u001b[2m\u001b[36m(pid=730)\u001b[0m     https://scikit-learn.org/stable/modules/linear_model.html#logistic-regression\n",
            "\u001b[2m\u001b[36m(pid=730)\u001b[0m   extra_warning_msg=_LOGISTIC_SOLVER_CONVERGENCE_MSG)\n",
            "\u001b[2m\u001b[36m(pid=730)\u001b[0m /usr/local/lib/python3.7/dist-packages/sklearn/linear_model/_logistic.py:940: ConvergenceWarning: lbfgs failed to converge (status=1):\n",
            "\u001b[2m\u001b[36m(pid=730)\u001b[0m STOP: TOTAL NO. of ITERATIONS REACHED LIMIT.\n",
            "\u001b[2m\u001b[36m(pid=730)\u001b[0m \n",
            "\u001b[2m\u001b[36m(pid=730)\u001b[0m Increase the number of iterations (max_iter) or scale the data as shown in:\n",
            "\u001b[2m\u001b[36m(pid=730)\u001b[0m     https://scikit-learn.org/stable/modules/preprocessing.html\n",
            "\u001b[2m\u001b[36m(pid=730)\u001b[0m Please also refer to the documentation for alternative solver options:\n",
            "\u001b[2m\u001b[36m(pid=730)\u001b[0m     https://scikit-learn.org/stable/modules/linear_model.html#logistic-regression\n",
            "\u001b[2m\u001b[36m(pid=730)\u001b[0m   extra_warning_msg=_LOGISTIC_SOLVER_CONVERGENCE_MSG)\n",
            "\u001b[2m\u001b[36m(pid=730)\u001b[0m /usr/local/lib/python3.7/dist-packages/sklearn/linear_model/_logistic.py:940: ConvergenceWarning: lbfgs failed to converge (status=1):\n",
            "\u001b[2m\u001b[36m(pid=730)\u001b[0m STOP: TOTAL NO. of ITERATIONS REACHED LIMIT.\n",
            "\u001b[2m\u001b[36m(pid=730)\u001b[0m \n",
            "\u001b[2m\u001b[36m(pid=730)\u001b[0m Increase the number of iterations (max_iter) or scale the data as shown in:\n",
            "\u001b[2m\u001b[36m(pid=730)\u001b[0m     https://scikit-learn.org/stable/modules/preprocessing.html\n",
            "\u001b[2m\u001b[36m(pid=730)\u001b[0m Please also refer to the documentation for alternative solver options:\n",
            "\u001b[2m\u001b[36m(pid=730)\u001b[0m     https://scikit-learn.org/stable/modules/linear_model.html#logistic-regression\n",
            "\u001b[2m\u001b[36m(pid=730)\u001b[0m   extra_warning_msg=_LOGISTIC_SOLVER_CONVERGENCE_MSG)\n",
            "\u001b[2m\u001b[36m(pid=730)\u001b[0m /usr/local/lib/python3.7/dist-packages/sklearn/linear_model/_logistic.py:940: ConvergenceWarning: lbfgs failed to converge (status=1):\n",
            "\u001b[2m\u001b[36m(pid=730)\u001b[0m STOP: TOTAL NO. of ITERATIONS REACHED LIMIT.\n",
            "\u001b[2m\u001b[36m(pid=730)\u001b[0m \n",
            "\u001b[2m\u001b[36m(pid=730)\u001b[0m Increase the number of iterations (max_iter) or scale the data as shown in:\n",
            "\u001b[2m\u001b[36m(pid=730)\u001b[0m     https://scikit-learn.org/stable/modules/preprocessing.html\n",
            "\u001b[2m\u001b[36m(pid=730)\u001b[0m Please also refer to the documentation for alternative solver options:\n",
            "\u001b[2m\u001b[36m(pid=730)\u001b[0m     https://scikit-learn.org/stable/modules/linear_model.html#logistic-regression\n",
            "\u001b[2m\u001b[36m(pid=730)\u001b[0m   extra_warning_msg=_LOGISTIC_SOLVER_CONVERGENCE_MSG)\n",
            "\u001b[2m\u001b[36m(pid=730)\u001b[0m /usr/local/lib/python3.7/dist-packages/sklearn/linear_model/_logistic.py:940: ConvergenceWarning: lbfgs failed to converge (status=1):\n",
            "\u001b[2m\u001b[36m(pid=730)\u001b[0m STOP: TOTAL NO. of ITERATIONS REACHED LIMIT.\n",
            "\u001b[2m\u001b[36m(pid=730)\u001b[0m \n",
            "\u001b[2m\u001b[36m(pid=730)\u001b[0m Increase the number of iterations (max_iter) or scale the data as shown in:\n",
            "\u001b[2m\u001b[36m(pid=730)\u001b[0m     https://scikit-learn.org/stable/modules/preprocessing.html\n",
            "\u001b[2m\u001b[36m(pid=730)\u001b[0m Please also refer to the documentation for alternative solver options:\n",
            "\u001b[2m\u001b[36m(pid=730)\u001b[0m     https://scikit-learn.org/stable/modules/linear_model.html#logistic-regression\n",
            "\u001b[2m\u001b[36m(pid=730)\u001b[0m   extra_warning_msg=_LOGISTIC_SOLVER_CONVERGENCE_MSG)\n",
            "\u001b[2m\u001b[36m(pid=730)\u001b[0m /usr/local/lib/python3.7/dist-packages/sklearn/linear_model/_logistic.py:940: ConvergenceWarning: lbfgs failed to converge (status=1):\n",
            "\u001b[2m\u001b[36m(pid=730)\u001b[0m STOP: TOTAL NO. of ITERATIONS REACHED LIMIT.\n",
            "\u001b[2m\u001b[36m(pid=730)\u001b[0m \n",
            "\u001b[2m\u001b[36m(pid=730)\u001b[0m Increase the number of iterations (max_iter) or scale the data as shown in:\n",
            "\u001b[2m\u001b[36m(pid=730)\u001b[0m     https://scikit-learn.org/stable/modules/preprocessing.html\n",
            "\u001b[2m\u001b[36m(pid=730)\u001b[0m Please also refer to the documentation for alternative solver options:\n",
            "\u001b[2m\u001b[36m(pid=730)\u001b[0m     https://scikit-learn.org/stable/modules/linear_model.html#logistic-regression\n",
            "\u001b[2m\u001b[36m(pid=730)\u001b[0m   extra_warning_msg=_LOGISTIC_SOLVER_CONVERGENCE_MSG)\n",
            "\u001b[2m\u001b[36m(pid=730)\u001b[0m /usr/local/lib/python3.7/dist-packages/sklearn/linear_model/_logistic.py:940: ConvergenceWarning: lbfgs failed to converge (status=1):\n",
            "\u001b[2m\u001b[36m(pid=730)\u001b[0m STOP: TOTAL NO. of ITERATIONS REACHED LIMIT.\n",
            "\u001b[2m\u001b[36m(pid=730)\u001b[0m \n",
            "\u001b[2m\u001b[36m(pid=730)\u001b[0m Increase the number of iterations (max_iter) or scale the data as shown in:\n",
            "\u001b[2m\u001b[36m(pid=730)\u001b[0m     https://scikit-learn.org/stable/modules/preprocessing.html\n",
            "\u001b[2m\u001b[36m(pid=730)\u001b[0m Please also refer to the documentation for alternative solver options:\n",
            "\u001b[2m\u001b[36m(pid=730)\u001b[0m     https://scikit-learn.org/stable/modules/linear_model.html#logistic-regression\n",
            "\u001b[2m\u001b[36m(pid=730)\u001b[0m   extra_warning_msg=_LOGISTIC_SOLVER_CONVERGENCE_MSG)\n",
            "\u001b[2m\u001b[36m(pid=730)\u001b[0m /usr/local/lib/python3.7/dist-packages/sklearn/linear_model/_logistic.py:940: ConvergenceWarning: lbfgs failed to converge (status=1):\n",
            "\u001b[2m\u001b[36m(pid=730)\u001b[0m STOP: TOTAL NO. of ITERATIONS REACHED LIMIT.\n",
            "\u001b[2m\u001b[36m(pid=730)\u001b[0m \n",
            "\u001b[2m\u001b[36m(pid=730)\u001b[0m Increase the number of iterations (max_iter) or scale the data as shown in:\n",
            "\u001b[2m\u001b[36m(pid=730)\u001b[0m     https://scikit-learn.org/stable/modules/preprocessing.html\n",
            "\u001b[2m\u001b[36m(pid=730)\u001b[0m Please also refer to the documentation for alternative solver options:\n",
            "\u001b[2m\u001b[36m(pid=730)\u001b[0m     https://scikit-learn.org/stable/modules/linear_model.html#logistic-regression\n",
            "\u001b[2m\u001b[36m(pid=730)\u001b[0m   extra_warning_msg=_LOGISTIC_SOLVER_CONVERGENCE_MSG)\n",
            "\u001b[2m\u001b[36m(pid=730)\u001b[0m /usr/local/lib/python3.7/dist-packages/sklearn/linear_model/_logistic.py:940: ConvergenceWarning: lbfgs failed to converge (status=1):\n",
            "\u001b[2m\u001b[36m(pid=730)\u001b[0m STOP: TOTAL NO. of ITERATIONS REACHED LIMIT.\n",
            "\u001b[2m\u001b[36m(pid=730)\u001b[0m \n",
            "\u001b[2m\u001b[36m(pid=730)\u001b[0m Increase the number of iterations (max_iter) or scale the data as shown in:\n",
            "\u001b[2m\u001b[36m(pid=730)\u001b[0m     https://scikit-learn.org/stable/modules/preprocessing.html\n",
            "\u001b[2m\u001b[36m(pid=730)\u001b[0m Please also refer to the documentation for alternative solver options:\n",
            "\u001b[2m\u001b[36m(pid=730)\u001b[0m     https://scikit-learn.org/stable/modules/linear_model.html#logistic-regression\n",
            "\u001b[2m\u001b[36m(pid=730)\u001b[0m   extra_warning_msg=_LOGISTIC_SOLVER_CONVERGENCE_MSG)\n",
            "\u001b[2m\u001b[36m(pid=730)\u001b[0m /usr/local/lib/python3.7/dist-packages/sklearn/linear_model/_logistic.py:940: ConvergenceWarning: lbfgs failed to converge (status=1):\n",
            "\u001b[2m\u001b[36m(pid=730)\u001b[0m STOP: TOTAL NO. of ITERATIONS REACHED LIMIT.\n",
            "\u001b[2m\u001b[36m(pid=730)\u001b[0m \n",
            "\u001b[2m\u001b[36m(pid=730)\u001b[0m Increase the number of iterations (max_iter) or scale the data as shown in:\n",
            "\u001b[2m\u001b[36m(pid=730)\u001b[0m     https://scikit-learn.org/stable/modules/preprocessing.html\n",
            "\u001b[2m\u001b[36m(pid=730)\u001b[0m Please also refer to the documentation for alternative solver options:\n",
            "\u001b[2m\u001b[36m(pid=730)\u001b[0m     https://scikit-learn.org/stable/modules/linear_model.html#logistic-regression\n",
            "\u001b[2m\u001b[36m(pid=730)\u001b[0m   extra_warning_msg=_LOGISTIC_SOLVER_CONVERGENCE_MSG)\n",
            "\u001b[2m\u001b[36m(pid=730)\u001b[0m /usr/local/lib/python3.7/dist-packages/sklearn/linear_model/_logistic.py:940: ConvergenceWarning: lbfgs failed to converge (status=1):\n",
            "\u001b[2m\u001b[36m(pid=730)\u001b[0m STOP: TOTAL NO. of ITERATIONS REACHED LIMIT.\n",
            "\u001b[2m\u001b[36m(pid=730)\u001b[0m \n",
            "\u001b[2m\u001b[36m(pid=730)\u001b[0m Increase the number of iterations (max_iter) or scale the data as shown in:\n",
            "\u001b[2m\u001b[36m(pid=730)\u001b[0m     https://scikit-learn.org/stable/modules/preprocessing.html\n",
            "\u001b[2m\u001b[36m(pid=730)\u001b[0m Please also refer to the documentation for alternative solver options:\n",
            "\u001b[2m\u001b[36m(pid=730)\u001b[0m     https://scikit-learn.org/stable/modules/linear_model.html#logistic-regression\n",
            "\u001b[2m\u001b[36m(pid=730)\u001b[0m   extra_warning_msg=_LOGISTIC_SOLVER_CONVERGENCE_MSG)\n",
            "\u001b[2m\u001b[36m(pid=730)\u001b[0m /usr/local/lib/python3.7/dist-packages/sklearn/linear_model/_logistic.py:940: ConvergenceWarning: lbfgs failed to converge (status=1):\n",
            "\u001b[2m\u001b[36m(pid=730)\u001b[0m STOP: TOTAL NO. of ITERATIONS REACHED LIMIT.\n",
            "\u001b[2m\u001b[36m(pid=730)\u001b[0m \n",
            "\u001b[2m\u001b[36m(pid=730)\u001b[0m Increase the number of iterations (max_iter) or scale the data as shown in:\n",
            "\u001b[2m\u001b[36m(pid=730)\u001b[0m     https://scikit-learn.org/stable/modules/preprocessing.html\n",
            "\u001b[2m\u001b[36m(pid=730)\u001b[0m Please also refer to the documentation for alternative solver options:\n",
            "\u001b[2m\u001b[36m(pid=730)\u001b[0m     https://scikit-learn.org/stable/modules/linear_model.html#logistic-regression\n",
            "\u001b[2m\u001b[36m(pid=730)\u001b[0m   extra_warning_msg=_LOGISTIC_SOLVER_CONVERGENCE_MSG)\n",
            "\u001b[2m\u001b[36m(pid=730)\u001b[0m /usr/local/lib/python3.7/dist-packages/sklearn/linear_model/_logistic.py:940: ConvergenceWarning: lbfgs failed to converge (status=1):\n",
            "\u001b[2m\u001b[36m(pid=730)\u001b[0m STOP: TOTAL NO. of ITERATIONS REACHED LIMIT.\n",
            "\u001b[2m\u001b[36m(pid=730)\u001b[0m \n",
            "\u001b[2m\u001b[36m(pid=730)\u001b[0m Increase the number of iterations (max_iter) or scale the data as shown in:\n",
            "\u001b[2m\u001b[36m(pid=730)\u001b[0m     https://scikit-learn.org/stable/modules/preprocessing.html\n",
            "\u001b[2m\u001b[36m(pid=730)\u001b[0m Please also refer to the documentation for alternative solver options:\n",
            "\u001b[2m\u001b[36m(pid=730)\u001b[0m     https://scikit-learn.org/stable/modules/linear_model.html#logistic-regression\n",
            "\u001b[2m\u001b[36m(pid=730)\u001b[0m   extra_warning_msg=_LOGISTIC_SOLVER_CONVERGENCE_MSG)\n",
            "\u001b[2m\u001b[36m(pid=730)\u001b[0m /usr/local/lib/python3.7/dist-packages/sklearn/linear_model/_logistic.py:940: ConvergenceWarning: lbfgs failed to converge (status=1):\n",
            "\u001b[2m\u001b[36m(pid=730)\u001b[0m STOP: TOTAL NO. of ITERATIONS REACHED LIMIT.\n",
            "\u001b[2m\u001b[36m(pid=730)\u001b[0m \n",
            "\u001b[2m\u001b[36m(pid=730)\u001b[0m Increase the number of iterations (max_iter) or scale the data as shown in:\n",
            "\u001b[2m\u001b[36m(pid=730)\u001b[0m     https://scikit-learn.org/stable/modules/preprocessing.html\n",
            "\u001b[2m\u001b[36m(pid=730)\u001b[0m Please also refer to the documentation for alternative solver options:\n",
            "\u001b[2m\u001b[36m(pid=730)\u001b[0m     https://scikit-learn.org/stable/modules/linear_model.html#logistic-regression\n",
            "\u001b[2m\u001b[36m(pid=730)\u001b[0m   extra_warning_msg=_LOGISTIC_SOLVER_CONVERGENCE_MSG)\n",
            "\u001b[2m\u001b[36m(pid=730)\u001b[0m /usr/local/lib/python3.7/dist-packages/sklearn/linear_model/_logistic.py:940: ConvergenceWarning: lbfgs failed to converge (status=1):\n",
            "\u001b[2m\u001b[36m(pid=730)\u001b[0m STOP: TOTAL NO. of ITERATIONS REACHED LIMIT.\n",
            "\u001b[2m\u001b[36m(pid=730)\u001b[0m \n",
            "\u001b[2m\u001b[36m(pid=730)\u001b[0m Increase the number of iterations (max_iter) or scale the data as shown in:\n",
            "\u001b[2m\u001b[36m(pid=730)\u001b[0m     https://scikit-learn.org/stable/modules/preprocessing.html\n",
            "\u001b[2m\u001b[36m(pid=730)\u001b[0m Please also refer to the documentation for alternative solver options:\n",
            "\u001b[2m\u001b[36m(pid=730)\u001b[0m     https://scikit-learn.org/stable/modules/linear_model.html#logistic-regression\n",
            "\u001b[2m\u001b[36m(pid=730)\u001b[0m   extra_warning_msg=_LOGISTIC_SOLVER_CONVERGENCE_MSG)\n",
            "\u001b[2m\u001b[36m(pid=730)\u001b[0m /usr/local/lib/python3.7/dist-packages/sklearn/linear_model/_logistic.py:940: ConvergenceWarning: lbfgs failed to converge (status=1):\n",
            "\u001b[2m\u001b[36m(pid=730)\u001b[0m STOP: TOTAL NO. of ITERATIONS REACHED LIMIT.\n",
            "\u001b[2m\u001b[36m(pid=730)\u001b[0m \n",
            "\u001b[2m\u001b[36m(pid=730)\u001b[0m Increase the number of iterations (max_iter) or scale the data as shown in:\n",
            "\u001b[2m\u001b[36m(pid=730)\u001b[0m     https://scikit-learn.org/stable/modules/preprocessing.html\n",
            "\u001b[2m\u001b[36m(pid=730)\u001b[0m Please also refer to the documentation for alternative solver options:\n",
            "\u001b[2m\u001b[36m(pid=730)\u001b[0m     https://scikit-learn.org/stable/modules/linear_model.html#logistic-regression\n",
            "\u001b[2m\u001b[36m(pid=730)\u001b[0m   extra_warning_msg=_LOGISTIC_SOLVER_CONVERGENCE_MSG)\n",
            "\u001b[2m\u001b[36m(pid=730)\u001b[0m /usr/local/lib/python3.7/dist-packages/sklearn/linear_model/_logistic.py:940: ConvergenceWarning: lbfgs failed to converge (status=1):\n",
            "\u001b[2m\u001b[36m(pid=730)\u001b[0m STOP: TOTAL NO. of ITERATIONS REACHED LIMIT.\n",
            "\u001b[2m\u001b[36m(pid=730)\u001b[0m \n",
            "\u001b[2m\u001b[36m(pid=730)\u001b[0m Increase the number of iterations (max_iter) or scale the data as shown in:\n",
            "\u001b[2m\u001b[36m(pid=730)\u001b[0m     https://scikit-learn.org/stable/modules/preprocessing.html\n",
            "\u001b[2m\u001b[36m(pid=730)\u001b[0m Please also refer to the documentation for alternative solver options:\n",
            "\u001b[2m\u001b[36m(pid=730)\u001b[0m     https://scikit-learn.org/stable/modules/linear_model.html#logistic-regression\n",
            "\u001b[2m\u001b[36m(pid=730)\u001b[0m   extra_warning_msg=_LOGISTIC_SOLVER_CONVERGENCE_MSG)\n",
            "\u001b[2m\u001b[36m(pid=730)\u001b[0m /usr/local/lib/python3.7/dist-packages/sklearn/linear_model/_logistic.py:940: ConvergenceWarning: lbfgs failed to converge (status=1):\n",
            "\u001b[2m\u001b[36m(pid=730)\u001b[0m STOP: TOTAL NO. of ITERATIONS REACHED LIMIT.\n",
            "\u001b[2m\u001b[36m(pid=730)\u001b[0m \n",
            "\u001b[2m\u001b[36m(pid=730)\u001b[0m Increase the number of iterations (max_iter) or scale the data as shown in:\n",
            "\u001b[2m\u001b[36m(pid=730)\u001b[0m     https://scikit-learn.org/stable/modules/preprocessing.html\n",
            "\u001b[2m\u001b[36m(pid=730)\u001b[0m Please also refer to the documentation for alternative solver options:\n",
            "\u001b[2m\u001b[36m(pid=730)\u001b[0m     https://scikit-learn.org/stable/modules/linear_model.html#logistic-regression\n",
            "\u001b[2m\u001b[36m(pid=730)\u001b[0m   extra_warning_msg=_LOGISTIC_SOLVER_CONVERGENCE_MSG)\n",
            "\u001b[2m\u001b[36m(pid=730)\u001b[0m /usr/local/lib/python3.7/dist-packages/sklearn/linear_model/_logistic.py:940: ConvergenceWarning: lbfgs failed to converge (status=1):\n",
            "\u001b[2m\u001b[36m(pid=730)\u001b[0m STOP: TOTAL NO. of ITERATIONS REACHED LIMIT.\n",
            "\u001b[2m\u001b[36m(pid=730)\u001b[0m \n",
            "\u001b[2m\u001b[36m(pid=730)\u001b[0m Increase the number of iterations (max_iter) or scale the data as shown in:\n",
            "\u001b[2m\u001b[36m(pid=730)\u001b[0m     https://scikit-learn.org/stable/modules/preprocessing.html\n",
            "\u001b[2m\u001b[36m(pid=730)\u001b[0m Please also refer to the documentation for alternative solver options:\n",
            "\u001b[2m\u001b[36m(pid=730)\u001b[0m     https://scikit-learn.org/stable/modules/linear_model.html#logistic-regression\n",
            "\u001b[2m\u001b[36m(pid=730)\u001b[0m   extra_warning_msg=_LOGISTIC_SOLVER_CONVERGENCE_MSG)\n",
            "\u001b[2m\u001b[36m(pid=730)\u001b[0m /usr/local/lib/python3.7/dist-packages/sklearn/linear_model/_logistic.py:940: ConvergenceWarning: lbfgs failed to converge (status=1):\n",
            "\u001b[2m\u001b[36m(pid=730)\u001b[0m STOP: TOTAL NO. of ITERATIONS REACHED LIMIT.\n",
            "\u001b[2m\u001b[36m(pid=730)\u001b[0m \n",
            "\u001b[2m\u001b[36m(pid=730)\u001b[0m Increase the number of iterations (max_iter) or scale the data as shown in:\n",
            "\u001b[2m\u001b[36m(pid=730)\u001b[0m     https://scikit-learn.org/stable/modules/preprocessing.html\n",
            "\u001b[2m\u001b[36m(pid=730)\u001b[0m Please also refer to the documentation for alternative solver options:\n",
            "\u001b[2m\u001b[36m(pid=730)\u001b[0m     https://scikit-learn.org/stable/modules/linear_model.html#logistic-regression\n",
            "\u001b[2m\u001b[36m(pid=730)\u001b[0m   extra_warning_msg=_LOGISTIC_SOLVER_CONVERGENCE_MSG)\n",
            "\u001b[2m\u001b[36m(pid=730)\u001b[0m /usr/local/lib/python3.7/dist-packages/sklearn/linear_model/_logistic.py:940: ConvergenceWarning: lbfgs failed to converge (status=1):\n",
            "\u001b[2m\u001b[36m(pid=730)\u001b[0m STOP: TOTAL NO. of ITERATIONS REACHED LIMIT.\n",
            "\u001b[2m\u001b[36m(pid=730)\u001b[0m \n",
            "\u001b[2m\u001b[36m(pid=730)\u001b[0m Increase the number of iterations (max_iter) or scale the data as shown in:\n",
            "\u001b[2m\u001b[36m(pid=730)\u001b[0m     https://scikit-learn.org/stable/modules/preprocessing.html\n",
            "\u001b[2m\u001b[36m(pid=730)\u001b[0m Please also refer to the documentation for alternative solver options:\n",
            "\u001b[2m\u001b[36m(pid=730)\u001b[0m     https://scikit-learn.org/stable/modules/linear_model.html#logistic-regression\n",
            "\u001b[2m\u001b[36m(pid=730)\u001b[0m   extra_warning_msg=_LOGISTIC_SOLVER_CONVERGENCE_MSG)\n",
            "\u001b[2m\u001b[36m(pid=730)\u001b[0m /usr/local/lib/python3.7/dist-packages/sklearn/linear_model/_logistic.py:940: ConvergenceWarning: lbfgs failed to converge (status=1):\n",
            "\u001b[2m\u001b[36m(pid=730)\u001b[0m STOP: TOTAL NO. of ITERATIONS REACHED LIMIT.\n",
            "\u001b[2m\u001b[36m(pid=730)\u001b[0m \n",
            "\u001b[2m\u001b[36m(pid=730)\u001b[0m Increase the number of iterations (max_iter) or scale the data as shown in:\n",
            "\u001b[2m\u001b[36m(pid=730)\u001b[0m     https://scikit-learn.org/stable/modules/preprocessing.html\n",
            "\u001b[2m\u001b[36m(pid=730)\u001b[0m Please also refer to the documentation for alternative solver options:\n",
            "\u001b[2m\u001b[36m(pid=730)\u001b[0m     https://scikit-learn.org/stable/modules/linear_model.html#logistic-regression\n",
            "\u001b[2m\u001b[36m(pid=730)\u001b[0m   extra_warning_msg=_LOGISTIC_SOLVER_CONVERGENCE_MSG)\n",
            "\u001b[2m\u001b[36m(pid=730)\u001b[0m /usr/local/lib/python3.7/dist-packages/sklearn/linear_model/_logistic.py:940: ConvergenceWarning: lbfgs failed to converge (status=1):\n",
            "\u001b[2m\u001b[36m(pid=730)\u001b[0m STOP: TOTAL NO. of ITERATIONS REACHED LIMIT.\n",
            "\u001b[2m\u001b[36m(pid=730)\u001b[0m \n",
            "\u001b[2m\u001b[36m(pid=730)\u001b[0m Increase the number of iterations (max_iter) or scale the data as shown in:\n",
            "\u001b[2m\u001b[36m(pid=730)\u001b[0m     https://scikit-learn.org/stable/modules/preprocessing.html\n",
            "\u001b[2m\u001b[36m(pid=730)\u001b[0m Please also refer to the documentation for alternative solver options:\n",
            "\u001b[2m\u001b[36m(pid=730)\u001b[0m     https://scikit-learn.org/stable/modules/linear_model.html#logistic-regression\n",
            "\u001b[2m\u001b[36m(pid=730)\u001b[0m   extra_warning_msg=_LOGISTIC_SOLVER_CONVERGENCE_MSG)\n",
            "\u001b[2m\u001b[36m(pid=730)\u001b[0m /usr/local/lib/python3.7/dist-packages/sklearn/linear_model/_logistic.py:940: ConvergenceWarning: lbfgs failed to converge (status=1):\n",
            "\u001b[2m\u001b[36m(pid=730)\u001b[0m STOP: TOTAL NO. of ITERATIONS REACHED LIMIT.\n",
            "\u001b[2m\u001b[36m(pid=730)\u001b[0m \n",
            "\u001b[2m\u001b[36m(pid=730)\u001b[0m Increase the number of iterations (max_iter) or scale the data as shown in:\n",
            "\u001b[2m\u001b[36m(pid=730)\u001b[0m     https://scikit-learn.org/stable/modules/preprocessing.html\n",
            "\u001b[2m\u001b[36m(pid=730)\u001b[0m Please also refer to the documentation for alternative solver options:\n",
            "\u001b[2m\u001b[36m(pid=730)\u001b[0m     https://scikit-learn.org/stable/modules/linear_model.html#logistic-regression\n",
            "\u001b[2m\u001b[36m(pid=730)\u001b[0m   extra_warning_msg=_LOGISTIC_SOLVER_CONVERGENCE_MSG)\n",
            "\u001b[2m\u001b[36m(pid=730)\u001b[0m /usr/local/lib/python3.7/dist-packages/sklearn/linear_model/_logistic.py:940: ConvergenceWarning: lbfgs failed to converge (status=1):\n",
            "\u001b[2m\u001b[36m(pid=730)\u001b[0m STOP: TOTAL NO. of ITERATIONS REACHED LIMIT.\n",
            "\u001b[2m\u001b[36m(pid=730)\u001b[0m \n",
            "\u001b[2m\u001b[36m(pid=730)\u001b[0m Increase the number of iterations (max_iter) or scale the data as shown in:\n",
            "\u001b[2m\u001b[36m(pid=730)\u001b[0m     https://scikit-learn.org/stable/modules/preprocessing.html\n",
            "\u001b[2m\u001b[36m(pid=730)\u001b[0m Please also refer to the documentation for alternative solver options:\n",
            "\u001b[2m\u001b[36m(pid=730)\u001b[0m     https://scikit-learn.org/stable/modules/linear_model.html#logistic-regression\n",
            "\u001b[2m\u001b[36m(pid=730)\u001b[0m   extra_warning_msg=_LOGISTIC_SOLVER_CONVERGENCE_MSG)\n",
            "\u001b[2m\u001b[36m(pid=730)\u001b[0m /usr/local/lib/python3.7/dist-packages/sklearn/linear_model/_logistic.py:940: ConvergenceWarning: lbfgs failed to converge (status=1):\n",
            "\u001b[2m\u001b[36m(pid=730)\u001b[0m STOP: TOTAL NO. of ITERATIONS REACHED LIMIT.\n",
            "\u001b[2m\u001b[36m(pid=730)\u001b[0m \n",
            "\u001b[2m\u001b[36m(pid=730)\u001b[0m Increase the number of iterations (max_iter) or scale the data as shown in:\n",
            "\u001b[2m\u001b[36m(pid=730)\u001b[0m     https://scikit-learn.org/stable/modules/preprocessing.html\n",
            "\u001b[2m\u001b[36m(pid=730)\u001b[0m Please also refer to the documentation for alternative solver options:\n",
            "\u001b[2m\u001b[36m(pid=730)\u001b[0m     https://scikit-learn.org/stable/modules/linear_model.html#logistic-regression\n",
            "\u001b[2m\u001b[36m(pid=730)\u001b[0m   extra_warning_msg=_LOGISTIC_SOLVER_CONVERGENCE_MSG)\n",
            "\u001b[2m\u001b[36m(pid=730)\u001b[0m /usr/local/lib/python3.7/dist-packages/sklearn/linear_model/_logistic.py:940: ConvergenceWarning: lbfgs failed to converge (status=1):\n",
            "\u001b[2m\u001b[36m(pid=730)\u001b[0m STOP: TOTAL NO. of ITERATIONS REACHED LIMIT.\n",
            "\u001b[2m\u001b[36m(pid=730)\u001b[0m \n",
            "\u001b[2m\u001b[36m(pid=730)\u001b[0m Increase the number of iterations (max_iter) or scale the data as shown in:\n",
            "\u001b[2m\u001b[36m(pid=730)\u001b[0m     https://scikit-learn.org/stable/modules/preprocessing.html\n",
            "\u001b[2m\u001b[36m(pid=730)\u001b[0m Please also refer to the documentation for alternative solver options:\n",
            "\u001b[2m\u001b[36m(pid=730)\u001b[0m     https://scikit-learn.org/stable/modules/linear_model.html#logistic-regression\n",
            "\u001b[2m\u001b[36m(pid=730)\u001b[0m   extra_warning_msg=_LOGISTIC_SOLVER_CONVERGENCE_MSG)\n",
            "\u001b[2m\u001b[36m(pid=730)\u001b[0m /usr/local/lib/python3.7/dist-packages/sklearn/linear_model/_logistic.py:940: ConvergenceWarning: lbfgs failed to converge (status=1):\n",
            "\u001b[2m\u001b[36m(pid=730)\u001b[0m STOP: TOTAL NO. of ITERATIONS REACHED LIMIT.\n",
            "\u001b[2m\u001b[36m(pid=730)\u001b[0m \n",
            "\u001b[2m\u001b[36m(pid=730)\u001b[0m Increase the number of iterations (max_iter) or scale the data as shown in:\n",
            "\u001b[2m\u001b[36m(pid=730)\u001b[0m     https://scikit-learn.org/stable/modules/preprocessing.html\n",
            "\u001b[2m\u001b[36m(pid=730)\u001b[0m Please also refer to the documentation for alternative solver options:\n",
            "\u001b[2m\u001b[36m(pid=730)\u001b[0m     https://scikit-learn.org/stable/modules/linear_model.html#logistic-regression\n",
            "\u001b[2m\u001b[36m(pid=730)\u001b[0m   extra_warning_msg=_LOGISTIC_SOLVER_CONVERGENCE_MSG)\n",
            "\u001b[2m\u001b[36m(pid=730)\u001b[0m /usr/local/lib/python3.7/dist-packages/sklearn/linear_model/_logistic.py:940: ConvergenceWarning: lbfgs failed to converge (status=1):\n",
            "\u001b[2m\u001b[36m(pid=730)\u001b[0m STOP: TOTAL NO. of ITERATIONS REACHED LIMIT.\n",
            "\u001b[2m\u001b[36m(pid=730)\u001b[0m \n",
            "\u001b[2m\u001b[36m(pid=730)\u001b[0m Increase the number of iterations (max_iter) or scale the data as shown in:\n",
            "\u001b[2m\u001b[36m(pid=730)\u001b[0m     https://scikit-learn.org/stable/modules/preprocessing.html\n",
            "\u001b[2m\u001b[36m(pid=730)\u001b[0m Please also refer to the documentation for alternative solver options:\n",
            "\u001b[2m\u001b[36m(pid=730)\u001b[0m     https://scikit-learn.org/stable/modules/linear_model.html#logistic-regression\n",
            "\u001b[2m\u001b[36m(pid=730)\u001b[0m   extra_warning_msg=_LOGISTIC_SOLVER_CONVERGENCE_MSG)\n",
            "\u001b[2m\u001b[36m(pid=730)\u001b[0m /usr/local/lib/python3.7/dist-packages/sklearn/linear_model/_logistic.py:940: ConvergenceWarning: lbfgs failed to converge (status=1):\n",
            "\u001b[2m\u001b[36m(pid=730)\u001b[0m STOP: TOTAL NO. of ITERATIONS REACHED LIMIT.\n",
            "\u001b[2m\u001b[36m(pid=730)\u001b[0m \n",
            "\u001b[2m\u001b[36m(pid=730)\u001b[0m Increase the number of iterations (max_iter) or scale the data as shown in:\n",
            "\u001b[2m\u001b[36m(pid=730)\u001b[0m     https://scikit-learn.org/stable/modules/preprocessing.html\n",
            "\u001b[2m\u001b[36m(pid=730)\u001b[0m Please also refer to the documentation for alternative solver options:\n",
            "\u001b[2m\u001b[36m(pid=730)\u001b[0m     https://scikit-learn.org/stable/modules/linear_model.html#logistic-regression\n",
            "\u001b[2m\u001b[36m(pid=730)\u001b[0m   extra_warning_msg=_LOGISTIC_SOLVER_CONVERGENCE_MSG)\n",
            "\u001b[2m\u001b[36m(pid=730)\u001b[0m /usr/local/lib/python3.7/dist-packages/sklearn/linear_model/_logistic.py:940: ConvergenceWarning: lbfgs failed to converge (status=1):\n",
            "\u001b[2m\u001b[36m(pid=730)\u001b[0m STOP: TOTAL NO. of ITERATIONS REACHED LIMIT.\n",
            "\u001b[2m\u001b[36m(pid=730)\u001b[0m \n",
            "\u001b[2m\u001b[36m(pid=730)\u001b[0m Increase the number of iterations (max_iter) or scale the data as shown in:\n",
            "\u001b[2m\u001b[36m(pid=730)\u001b[0m     https://scikit-learn.org/stable/modules/preprocessing.html\n",
            "\u001b[2m\u001b[36m(pid=730)\u001b[0m Please also refer to the documentation for alternative solver options:\n",
            "\u001b[2m\u001b[36m(pid=730)\u001b[0m     https://scikit-learn.org/stable/modules/linear_model.html#logistic-regression\n",
            "\u001b[2m\u001b[36m(pid=730)\u001b[0m   extra_warning_msg=_LOGISTIC_SOLVER_CONVERGENCE_MSG)\n",
            "\u001b[2m\u001b[36m(pid=730)\u001b[0m /usr/local/lib/python3.7/dist-packages/sklearn/linear_model/_logistic.py:940: ConvergenceWarning: lbfgs failed to converge (status=1):\n",
            "\u001b[2m\u001b[36m(pid=730)\u001b[0m STOP: TOTAL NO. of ITERATIONS REACHED LIMIT.\n",
            "\u001b[2m\u001b[36m(pid=730)\u001b[0m \n",
            "\u001b[2m\u001b[36m(pid=730)\u001b[0m Increase the number of iterations (max_iter) or scale the data as shown in:\n",
            "\u001b[2m\u001b[36m(pid=730)\u001b[0m     https://scikit-learn.org/stable/modules/preprocessing.html\n",
            "\u001b[2m\u001b[36m(pid=730)\u001b[0m Please also refer to the documentation for alternative solver options:\n",
            "\u001b[2m\u001b[36m(pid=730)\u001b[0m     https://scikit-learn.org/stable/modules/linear_model.html#logistic-regression\n",
            "\u001b[2m\u001b[36m(pid=730)\u001b[0m   extra_warning_msg=_LOGISTIC_SOLVER_CONVERGENCE_MSG)\n",
            "\u001b[2m\u001b[36m(pid=730)\u001b[0m /usr/local/lib/python3.7/dist-packages/sklearn/linear_model/_logistic.py:940: ConvergenceWarning: lbfgs failed to converge (status=1):\n",
            "\u001b[2m\u001b[36m(pid=730)\u001b[0m STOP: TOTAL NO. of ITERATIONS REACHED LIMIT.\n",
            "\u001b[2m\u001b[36m(pid=730)\u001b[0m \n",
            "\u001b[2m\u001b[36m(pid=730)\u001b[0m Increase the number of iterations (max_iter) or scale the data as shown in:\n",
            "\u001b[2m\u001b[36m(pid=730)\u001b[0m     https://scikit-learn.org/stable/modules/preprocessing.html\n",
            "\u001b[2m\u001b[36m(pid=730)\u001b[0m Please also refer to the documentation for alternative solver options:\n",
            "\u001b[2m\u001b[36m(pid=730)\u001b[0m     https://scikit-learn.org/stable/modules/linear_model.html#logistic-regression\n",
            "\u001b[2m\u001b[36m(pid=730)\u001b[0m   extra_warning_msg=_LOGISTIC_SOLVER_CONVERGENCE_MSG)\n",
            "\u001b[2m\u001b[36m(pid=730)\u001b[0m /usr/local/lib/python3.7/dist-packages/sklearn/linear_model/_logistic.py:940: ConvergenceWarning: lbfgs failed to converge (status=1):\n",
            "\u001b[2m\u001b[36m(pid=730)\u001b[0m STOP: TOTAL NO. of ITERATIONS REACHED LIMIT.\n",
            "\u001b[2m\u001b[36m(pid=730)\u001b[0m \n",
            "\u001b[2m\u001b[36m(pid=730)\u001b[0m Increase the number of iterations (max_iter) or scale the data as shown in:\n",
            "\u001b[2m\u001b[36m(pid=730)\u001b[0m     https://scikit-learn.org/stable/modules/preprocessing.html\n",
            "\u001b[2m\u001b[36m(pid=730)\u001b[0m Please also refer to the documentation for alternative solver options:\n",
            "\u001b[2m\u001b[36m(pid=730)\u001b[0m     https://scikit-learn.org/stable/modules/linear_model.html#logistic-regression\n",
            "\u001b[2m\u001b[36m(pid=730)\u001b[0m   extra_warning_msg=_LOGISTIC_SOLVER_CONVERGENCE_MSG)\n",
            "\u001b[2m\u001b[36m(pid=730)\u001b[0m /usr/local/lib/python3.7/dist-packages/sklearn/linear_model/_logistic.py:940: ConvergenceWarning: lbfgs failed to converge (status=1):\n",
            "\u001b[2m\u001b[36m(pid=730)\u001b[0m STOP: TOTAL NO. of ITERATIONS REACHED LIMIT.\n",
            "\u001b[2m\u001b[36m(pid=730)\u001b[0m \n",
            "\u001b[2m\u001b[36m(pid=730)\u001b[0m Increase the number of iterations (max_iter) or scale the data as shown in:\n",
            "\u001b[2m\u001b[36m(pid=730)\u001b[0m     https://scikit-learn.org/stable/modules/preprocessing.html\n",
            "\u001b[2m\u001b[36m(pid=730)\u001b[0m Please also refer to the documentation for alternative solver options:\n",
            "\u001b[2m\u001b[36m(pid=730)\u001b[0m     https://scikit-learn.org/stable/modules/linear_model.html#logistic-regression\n",
            "\u001b[2m\u001b[36m(pid=730)\u001b[0m   extra_warning_msg=_LOGISTIC_SOLVER_CONVERGENCE_MSG)\n",
            "\u001b[2m\u001b[36m(pid=730)\u001b[0m /usr/local/lib/python3.7/dist-packages/sklearn/linear_model/_logistic.py:940: ConvergenceWarning: lbfgs failed to converge (status=1):\n",
            "\u001b[2m\u001b[36m(pid=730)\u001b[0m STOP: TOTAL NO. of ITERATIONS REACHED LIMIT.\n",
            "\u001b[2m\u001b[36m(pid=730)\u001b[0m \n",
            "\u001b[2m\u001b[36m(pid=730)\u001b[0m Increase the number of iterations (max_iter) or scale the data as shown in:\n",
            "\u001b[2m\u001b[36m(pid=730)\u001b[0m     https://scikit-learn.org/stable/modules/preprocessing.html\n",
            "\u001b[2m\u001b[36m(pid=730)\u001b[0m Please also refer to the documentation for alternative solver options:\n",
            "\u001b[2m\u001b[36m(pid=730)\u001b[0m     https://scikit-learn.org/stable/modules/linear_model.html#logistic-regression\n",
            "\u001b[2m\u001b[36m(pid=730)\u001b[0m   extra_warning_msg=_LOGISTIC_SOLVER_CONVERGENCE_MSG)\n",
            "\u001b[2m\u001b[36m(pid=730)\u001b[0m /usr/local/lib/python3.7/dist-packages/sklearn/linear_model/_logistic.py:940: ConvergenceWarning: lbfgs failed to converge (status=1):\n",
            "\u001b[2m\u001b[36m(pid=730)\u001b[0m STOP: TOTAL NO. of ITERATIONS REACHED LIMIT.\n",
            "\u001b[2m\u001b[36m(pid=730)\u001b[0m \n",
            "\u001b[2m\u001b[36m(pid=730)\u001b[0m Increase the number of iterations (max_iter) or scale the data as shown in:\n",
            "\u001b[2m\u001b[36m(pid=730)\u001b[0m     https://scikit-learn.org/stable/modules/preprocessing.html\n",
            "\u001b[2m\u001b[36m(pid=730)\u001b[0m Please also refer to the documentation for alternative solver options:\n",
            "\u001b[2m\u001b[36m(pid=730)\u001b[0m     https://scikit-learn.org/stable/modules/linear_model.html#logistic-regression\n",
            "\u001b[2m\u001b[36m(pid=730)\u001b[0m   extra_warning_msg=_LOGISTIC_SOLVER_CONVERGENCE_MSG)\n",
            "\u001b[2m\u001b[36m(pid=730)\u001b[0m /usr/local/lib/python3.7/dist-packages/sklearn/linear_model/_logistic.py:940: ConvergenceWarning: lbfgs failed to converge (status=1):\n",
            "\u001b[2m\u001b[36m(pid=730)\u001b[0m STOP: TOTAL NO. of ITERATIONS REACHED LIMIT.\n",
            "\u001b[2m\u001b[36m(pid=730)\u001b[0m \n",
            "\u001b[2m\u001b[36m(pid=730)\u001b[0m Increase the number of iterations (max_iter) or scale the data as shown in:\n",
            "\u001b[2m\u001b[36m(pid=730)\u001b[0m     https://scikit-learn.org/stable/modules/preprocessing.html\n",
            "\u001b[2m\u001b[36m(pid=730)\u001b[0m Please also refer to the documentation for alternative solver options:\n",
            "\u001b[2m\u001b[36m(pid=730)\u001b[0m     https://scikit-learn.org/stable/modules/linear_model.html#logistic-regression\n",
            "\u001b[2m\u001b[36m(pid=730)\u001b[0m   extra_warning_msg=_LOGISTIC_SOLVER_CONVERGENCE_MSG)\n",
            "\u001b[2m\u001b[36m(pid=730)\u001b[0m /usr/local/lib/python3.7/dist-packages/sklearn/linear_model/_logistic.py:940: ConvergenceWarning: lbfgs failed to converge (status=1):\n",
            "\u001b[2m\u001b[36m(pid=730)\u001b[0m STOP: TOTAL NO. of ITERATIONS REACHED LIMIT.\n",
            "\u001b[2m\u001b[36m(pid=730)\u001b[0m \n",
            "\u001b[2m\u001b[36m(pid=730)\u001b[0m Increase the number of iterations (max_iter) or scale the data as shown in:\n",
            "\u001b[2m\u001b[36m(pid=730)\u001b[0m     https://scikit-learn.org/stable/modules/preprocessing.html\n",
            "\u001b[2m\u001b[36m(pid=730)\u001b[0m Please also refer to the documentation for alternative solver options:\n",
            "\u001b[2m\u001b[36m(pid=730)\u001b[0m     https://scikit-learn.org/stable/modules/linear_model.html#logistic-regression\n",
            "\u001b[2m\u001b[36m(pid=730)\u001b[0m   extra_warning_msg=_LOGISTIC_SOLVER_CONVERGENCE_MSG)\n",
            "\u001b[2m\u001b[36m(pid=730)\u001b[0m /usr/local/lib/python3.7/dist-packages/sklearn/linear_model/_logistic.py:940: ConvergenceWarning: lbfgs failed to converge (status=1):\n",
            "\u001b[2m\u001b[36m(pid=730)\u001b[0m STOP: TOTAL NO. of ITERATIONS REACHED LIMIT.\n",
            "\u001b[2m\u001b[36m(pid=730)\u001b[0m \n",
            "\u001b[2m\u001b[36m(pid=730)\u001b[0m Increase the number of iterations (max_iter) or scale the data as shown in:\n",
            "\u001b[2m\u001b[36m(pid=730)\u001b[0m     https://scikit-learn.org/stable/modules/preprocessing.html\n",
            "\u001b[2m\u001b[36m(pid=730)\u001b[0m Please also refer to the documentation for alternative solver options:\n",
            "\u001b[2m\u001b[36m(pid=730)\u001b[0m     https://scikit-learn.org/stable/modules/linear_model.html#logistic-regression\n",
            "\u001b[2m\u001b[36m(pid=730)\u001b[0m   extra_warning_msg=_LOGISTIC_SOLVER_CONVERGENCE_MSG)\n",
            "\u001b[2m\u001b[36m(pid=730)\u001b[0m /usr/local/lib/python3.7/dist-packages/sklearn/linear_model/_logistic.py:940: ConvergenceWarning: lbfgs failed to converge (status=1):\n",
            "\u001b[2m\u001b[36m(pid=730)\u001b[0m STOP: TOTAL NO. of ITERATIONS REACHED LIMIT.\n",
            "\u001b[2m\u001b[36m(pid=730)\u001b[0m \n",
            "\u001b[2m\u001b[36m(pid=730)\u001b[0m Increase the number of iterations (max_iter) or scale the data as shown in:\n",
            "\u001b[2m\u001b[36m(pid=730)\u001b[0m     https://scikit-learn.org/stable/modules/preprocessing.html\n",
            "\u001b[2m\u001b[36m(pid=730)\u001b[0m Please also refer to the documentation for alternative solver options:\n",
            "\u001b[2m\u001b[36m(pid=730)\u001b[0m     https://scikit-learn.org/stable/modules/linear_model.html#logistic-regression\n",
            "\u001b[2m\u001b[36m(pid=730)\u001b[0m   extra_warning_msg=_LOGISTIC_SOLVER_CONVERGENCE_MSG)\n",
            "\u001b[2m\u001b[36m(pid=730)\u001b[0m /usr/local/lib/python3.7/dist-packages/sklearn/linear_model/_logistic.py:940: ConvergenceWarning: lbfgs failed to converge (status=1):\n",
            "\u001b[2m\u001b[36m(pid=730)\u001b[0m STOP: TOTAL NO. of ITERATIONS REACHED LIMIT.\n",
            "\u001b[2m\u001b[36m(pid=730)\u001b[0m \n",
            "\u001b[2m\u001b[36m(pid=730)\u001b[0m Increase the number of iterations (max_iter) or scale the data as shown in:\n",
            "\u001b[2m\u001b[36m(pid=730)\u001b[0m     https://scikit-learn.org/stable/modules/preprocessing.html\n",
            "\u001b[2m\u001b[36m(pid=730)\u001b[0m Please also refer to the documentation for alternative solver options:\n",
            "\u001b[2m\u001b[36m(pid=730)\u001b[0m     https://scikit-learn.org/stable/modules/linear_model.html#logistic-regression\n",
            "\u001b[2m\u001b[36m(pid=730)\u001b[0m   extra_warning_msg=_LOGISTIC_SOLVER_CONVERGENCE_MSG)\n",
            "\u001b[2m\u001b[36m(pid=730)\u001b[0m /usr/local/lib/python3.7/dist-packages/sklearn/linear_model/_logistic.py:940: ConvergenceWarning: lbfgs failed to converge (status=1):\n",
            "\u001b[2m\u001b[36m(pid=730)\u001b[0m STOP: TOTAL NO. of ITERATIONS REACHED LIMIT.\n",
            "\u001b[2m\u001b[36m(pid=730)\u001b[0m \n",
            "\u001b[2m\u001b[36m(pid=730)\u001b[0m Increase the number of iterations (max_iter) or scale the data as shown in:\n",
            "\u001b[2m\u001b[36m(pid=730)\u001b[0m     https://scikit-learn.org/stable/modules/preprocessing.html\n",
            "\u001b[2m\u001b[36m(pid=730)\u001b[0m Please also refer to the documentation for alternative solver options:\n",
            "\u001b[2m\u001b[36m(pid=730)\u001b[0m     https://scikit-learn.org/stable/modules/linear_model.html#logistic-regression\n",
            "\u001b[2m\u001b[36m(pid=730)\u001b[0m   extra_warning_msg=_LOGISTIC_SOLVER_CONVERGENCE_MSG)\n",
            "\u001b[2m\u001b[36m(pid=730)\u001b[0m /usr/local/lib/python3.7/dist-packages/sklearn/linear_model/_logistic.py:940: ConvergenceWarning: lbfgs failed to converge (status=1):\n",
            "\u001b[2m\u001b[36m(pid=730)\u001b[0m STOP: TOTAL NO. of ITERATIONS REACHED LIMIT.\n",
            "\u001b[2m\u001b[36m(pid=730)\u001b[0m \n",
            "\u001b[2m\u001b[36m(pid=730)\u001b[0m Increase the number of iterations (max_iter) or scale the data as shown in:\n",
            "\u001b[2m\u001b[36m(pid=730)\u001b[0m     https://scikit-learn.org/stable/modules/preprocessing.html\n",
            "\u001b[2m\u001b[36m(pid=730)\u001b[0m Please also refer to the documentation for alternative solver options:\n",
            "\u001b[2m\u001b[36m(pid=730)\u001b[0m     https://scikit-learn.org/stable/modules/linear_model.html#logistic-regression\n",
            "\u001b[2m\u001b[36m(pid=730)\u001b[0m   extra_warning_msg=_LOGISTIC_SOLVER_CONVERGENCE_MSG)\n",
            "\u001b[2m\u001b[36m(pid=730)\u001b[0m /usr/local/lib/python3.7/dist-packages/sklearn/linear_model/_logistic.py:940: ConvergenceWarning: lbfgs failed to converge (status=1):\n",
            "\u001b[2m\u001b[36m(pid=730)\u001b[0m STOP: TOTAL NO. of ITERATIONS REACHED LIMIT.\n",
            "\u001b[2m\u001b[36m(pid=730)\u001b[0m \n",
            "\u001b[2m\u001b[36m(pid=730)\u001b[0m Increase the number of iterations (max_iter) or scale the data as shown in:\n",
            "\u001b[2m\u001b[36m(pid=730)\u001b[0m     https://scikit-learn.org/stable/modules/preprocessing.html\n",
            "\u001b[2m\u001b[36m(pid=730)\u001b[0m Please also refer to the documentation for alternative solver options:\n",
            "\u001b[2m\u001b[36m(pid=730)\u001b[0m     https://scikit-learn.org/stable/modules/linear_model.html#logistic-regression\n",
            "\u001b[2m\u001b[36m(pid=730)\u001b[0m   extra_warning_msg=_LOGISTIC_SOLVER_CONVERGENCE_MSG)\n",
            "\u001b[2m\u001b[36m(pid=730)\u001b[0m /usr/local/lib/python3.7/dist-packages/sklearn/linear_model/_logistic.py:940: ConvergenceWarning: lbfgs failed to converge (status=1):\n",
            "\u001b[2m\u001b[36m(pid=730)\u001b[0m STOP: TOTAL NO. of ITERATIONS REACHED LIMIT.\n",
            "\u001b[2m\u001b[36m(pid=730)\u001b[0m \n",
            "\u001b[2m\u001b[36m(pid=730)\u001b[0m Increase the number of iterations (max_iter) or scale the data as shown in:\n",
            "\u001b[2m\u001b[36m(pid=730)\u001b[0m     https://scikit-learn.org/stable/modules/preprocessing.html\n",
            "\u001b[2m\u001b[36m(pid=730)\u001b[0m Please also refer to the documentation for alternative solver options:\n",
            "\u001b[2m\u001b[36m(pid=730)\u001b[0m     https://scikit-learn.org/stable/modules/linear_model.html#logistic-regression\n",
            "\u001b[2m\u001b[36m(pid=730)\u001b[0m   extra_warning_msg=_LOGISTIC_SOLVER_CONVERGENCE_MSG)\n",
            "\u001b[2m\u001b[36m(pid=730)\u001b[0m /usr/local/lib/python3.7/dist-packages/sklearn/linear_model/_logistic.py:940: ConvergenceWarning: lbfgs failed to converge (status=1):\n",
            "\u001b[2m\u001b[36m(pid=730)\u001b[0m STOP: TOTAL NO. of ITERATIONS REACHED LIMIT.\n",
            "\u001b[2m\u001b[36m(pid=730)\u001b[0m \n",
            "\u001b[2m\u001b[36m(pid=730)\u001b[0m Increase the number of iterations (max_iter) or scale the data as shown in:\n",
            "\u001b[2m\u001b[36m(pid=730)\u001b[0m     https://scikit-learn.org/stable/modules/preprocessing.html\n",
            "\u001b[2m\u001b[36m(pid=730)\u001b[0m Please also refer to the documentation for alternative solver options:\n",
            "\u001b[2m\u001b[36m(pid=730)\u001b[0m     https://scikit-learn.org/stable/modules/linear_model.html#logistic-regression\n",
            "\u001b[2m\u001b[36m(pid=730)\u001b[0m   extra_warning_msg=_LOGISTIC_SOLVER_CONVERGENCE_MSG)\n",
            "\u001b[2m\u001b[36m(pid=730)\u001b[0m /usr/local/lib/python3.7/dist-packages/sklearn/linear_model/_logistic.py:940: ConvergenceWarning: lbfgs failed to converge (status=1):\n",
            "\u001b[2m\u001b[36m(pid=730)\u001b[0m STOP: TOTAL NO. of ITERATIONS REACHED LIMIT.\n",
            "\u001b[2m\u001b[36m(pid=730)\u001b[0m \n",
            "\u001b[2m\u001b[36m(pid=730)\u001b[0m Increase the number of iterations (max_iter) or scale the data as shown in:\n",
            "\u001b[2m\u001b[36m(pid=730)\u001b[0m     https://scikit-learn.org/stable/modules/preprocessing.html\n",
            "\u001b[2m\u001b[36m(pid=730)\u001b[0m Please also refer to the documentation for alternative solver options:\n",
            "\u001b[2m\u001b[36m(pid=730)\u001b[0m     https://scikit-learn.org/stable/modules/linear_model.html#logistic-regression\n",
            "\u001b[2m\u001b[36m(pid=730)\u001b[0m   extra_warning_msg=_LOGISTIC_SOLVER_CONVERGENCE_MSG)\n",
            "\u001b[2m\u001b[36m(pid=730)\u001b[0m /usr/local/lib/python3.7/dist-packages/sklearn/linear_model/_logistic.py:940: ConvergenceWarning: lbfgs failed to converge (status=1):\n",
            "\u001b[2m\u001b[36m(pid=730)\u001b[0m STOP: TOTAL NO. of ITERATIONS REACHED LIMIT.\n",
            "\u001b[2m\u001b[36m(pid=730)\u001b[0m \n",
            "\u001b[2m\u001b[36m(pid=730)\u001b[0m Increase the number of iterations (max_iter) or scale the data as shown in:\n",
            "\u001b[2m\u001b[36m(pid=730)\u001b[0m     https://scikit-learn.org/stable/modules/preprocessing.html\n",
            "\u001b[2m\u001b[36m(pid=730)\u001b[0m Please also refer to the documentation for alternative solver options:\n",
            "\u001b[2m\u001b[36m(pid=730)\u001b[0m     https://scikit-learn.org/stable/modules/linear_model.html#logistic-regression\n",
            "\u001b[2m\u001b[36m(pid=730)\u001b[0m   extra_warning_msg=_LOGISTIC_SOLVER_CONVERGENCE_MSG)\n",
            "\u001b[2m\u001b[36m(pid=730)\u001b[0m /usr/local/lib/python3.7/dist-packages/sklearn/linear_model/_logistic.py:940: ConvergenceWarning: lbfgs failed to converge (status=1):\n",
            "\u001b[2m\u001b[36m(pid=730)\u001b[0m STOP: TOTAL NO. of ITERATIONS REACHED LIMIT.\n",
            "\u001b[2m\u001b[36m(pid=730)\u001b[0m \n",
            "\u001b[2m\u001b[36m(pid=730)\u001b[0m Increase the number of iterations (max_iter) or scale the data as shown in:\n",
            "\u001b[2m\u001b[36m(pid=730)\u001b[0m     https://scikit-learn.org/stable/modules/preprocessing.html\n",
            "\u001b[2m\u001b[36m(pid=730)\u001b[0m Please also refer to the documentation for alternative solver options:\n",
            "\u001b[2m\u001b[36m(pid=730)\u001b[0m     https://scikit-learn.org/stable/modules/linear_model.html#logistic-regression\n",
            "\u001b[2m\u001b[36m(pid=730)\u001b[0m   extra_warning_msg=_LOGISTIC_SOLVER_CONVERGENCE_MSG)\n",
            "\u001b[2m\u001b[36m(pid=730)\u001b[0m /usr/local/lib/python3.7/dist-packages/sklearn/linear_model/_logistic.py:940: ConvergenceWarning: lbfgs failed to converge (status=1):\n",
            "\u001b[2m\u001b[36m(pid=730)\u001b[0m STOP: TOTAL NO. of ITERATIONS REACHED LIMIT.\n",
            "\u001b[2m\u001b[36m(pid=730)\u001b[0m \n",
            "\u001b[2m\u001b[36m(pid=730)\u001b[0m Increase the number of iterations (max_iter) or scale the data as shown in:\n",
            "\u001b[2m\u001b[36m(pid=730)\u001b[0m     https://scikit-learn.org/stable/modules/preprocessing.html\n",
            "\u001b[2m\u001b[36m(pid=730)\u001b[0m Please also refer to the documentation for alternative solver options:\n",
            "\u001b[2m\u001b[36m(pid=730)\u001b[0m     https://scikit-learn.org/stable/modules/linear_model.html#logistic-regression\n",
            "\u001b[2m\u001b[36m(pid=730)\u001b[0m   extra_warning_msg=_LOGISTIC_SOLVER_CONVERGENCE_MSG)\n",
            "\u001b[2m\u001b[36m(pid=730)\u001b[0m /usr/local/lib/python3.7/dist-packages/sklearn/linear_model/_logistic.py:940: ConvergenceWarning: lbfgs failed to converge (status=1):\n",
            "\u001b[2m\u001b[36m(pid=730)\u001b[0m STOP: TOTAL NO. of ITERATIONS REACHED LIMIT.\n",
            "\u001b[2m\u001b[36m(pid=730)\u001b[0m \n",
            "\u001b[2m\u001b[36m(pid=730)\u001b[0m Increase the number of iterations (max_iter) or scale the data as shown in:\n",
            "\u001b[2m\u001b[36m(pid=730)\u001b[0m     https://scikit-learn.org/stable/modules/preprocessing.html\n",
            "\u001b[2m\u001b[36m(pid=730)\u001b[0m Please also refer to the documentation for alternative solver options:\n",
            "\u001b[2m\u001b[36m(pid=730)\u001b[0m     https://scikit-learn.org/stable/modules/linear_model.html#logistic-regression\n",
            "\u001b[2m\u001b[36m(pid=730)\u001b[0m   extra_warning_msg=_LOGISTIC_SOLVER_CONVERGENCE_MSG)\n",
            "\u001b[2m\u001b[36m(pid=730)\u001b[0m /usr/local/lib/python3.7/dist-packages/sklearn/linear_model/_logistic.py:940: ConvergenceWarning: lbfgs failed to converge (status=1):\n",
            "\u001b[2m\u001b[36m(pid=730)\u001b[0m STOP: TOTAL NO. of ITERATIONS REACHED LIMIT.\n",
            "\u001b[2m\u001b[36m(pid=730)\u001b[0m \n",
            "\u001b[2m\u001b[36m(pid=730)\u001b[0m Increase the number of iterations (max_iter) or scale the data as shown in:\n",
            "\u001b[2m\u001b[36m(pid=730)\u001b[0m     https://scikit-learn.org/stable/modules/preprocessing.html\n",
            "\u001b[2m\u001b[36m(pid=730)\u001b[0m Please also refer to the documentation for alternative solver options:\n",
            "\u001b[2m\u001b[36m(pid=730)\u001b[0m     https://scikit-learn.org/stable/modules/linear_model.html#logistic-regression\n",
            "\u001b[2m\u001b[36m(pid=730)\u001b[0m   extra_warning_msg=_LOGISTIC_SOLVER_CONVERGENCE_MSG)\n",
            "\u001b[2m\u001b[36m(pid=730)\u001b[0m /usr/local/lib/python3.7/dist-packages/sklearn/linear_model/_logistic.py:940: ConvergenceWarning: lbfgs failed to converge (status=1):\n",
            "\u001b[2m\u001b[36m(pid=730)\u001b[0m STOP: TOTAL NO. of ITERATIONS REACHED LIMIT.\n",
            "\u001b[2m\u001b[36m(pid=730)\u001b[0m \n",
            "\u001b[2m\u001b[36m(pid=730)\u001b[0m Increase the number of iterations (max_iter) or scale the data as shown in:\n",
            "\u001b[2m\u001b[36m(pid=730)\u001b[0m     https://scikit-learn.org/stable/modules/preprocessing.html\n",
            "\u001b[2m\u001b[36m(pid=730)\u001b[0m Please also refer to the documentation for alternative solver options:\n",
            "\u001b[2m\u001b[36m(pid=730)\u001b[0m     https://scikit-learn.org/stable/modules/linear_model.html#logistic-regression\n",
            "\u001b[2m\u001b[36m(pid=730)\u001b[0m   extra_warning_msg=_LOGISTIC_SOLVER_CONVERGENCE_MSG)\n",
            "\u001b[2m\u001b[36m(pid=730)\u001b[0m /usr/local/lib/python3.7/dist-packages/sklearn/linear_model/_logistic.py:940: ConvergenceWarning: lbfgs failed to converge (status=1):\n",
            "\u001b[2m\u001b[36m(pid=730)\u001b[0m STOP: TOTAL NO. of ITERATIONS REACHED LIMIT.\n",
            "\u001b[2m\u001b[36m(pid=730)\u001b[0m \n",
            "\u001b[2m\u001b[36m(pid=730)\u001b[0m Increase the number of iterations (max_iter) or scale the data as shown in:\n",
            "\u001b[2m\u001b[36m(pid=730)\u001b[0m     https://scikit-learn.org/stable/modules/preprocessing.html\n",
            "\u001b[2m\u001b[36m(pid=730)\u001b[0m Please also refer to the documentation for alternative solver options:\n",
            "\u001b[2m\u001b[36m(pid=730)\u001b[0m     https://scikit-learn.org/stable/modules/linear_model.html#logistic-regression\n",
            "\u001b[2m\u001b[36m(pid=730)\u001b[0m   extra_warning_msg=_LOGISTIC_SOLVER_CONVERGENCE_MSG)\n",
            "\u001b[2m\u001b[36m(pid=730)\u001b[0m /usr/local/lib/python3.7/dist-packages/sklearn/linear_model/_logistic.py:940: ConvergenceWarning: lbfgs failed to converge (status=1):\n",
            "\u001b[2m\u001b[36m(pid=730)\u001b[0m STOP: TOTAL NO. of ITERATIONS REACHED LIMIT.\n",
            "\u001b[2m\u001b[36m(pid=730)\u001b[0m \n",
            "\u001b[2m\u001b[36m(pid=730)\u001b[0m Increase the number of iterations (max_iter) or scale the data as shown in:\n",
            "\u001b[2m\u001b[36m(pid=730)\u001b[0m     https://scikit-learn.org/stable/modules/preprocessing.html\n",
            "\u001b[2m\u001b[36m(pid=730)\u001b[0m Please also refer to the documentation for alternative solver options:\n",
            "\u001b[2m\u001b[36m(pid=730)\u001b[0m     https://scikit-learn.org/stable/modules/linear_model.html#logistic-regression\n",
            "\u001b[2m\u001b[36m(pid=730)\u001b[0m   extra_warning_msg=_LOGISTIC_SOLVER_CONVERGENCE_MSG)\n",
            "\u001b[2m\u001b[36m(pid=730)\u001b[0m /usr/local/lib/python3.7/dist-packages/sklearn/linear_model/_logistic.py:940: ConvergenceWarning: lbfgs failed to converge (status=1):\n",
            "\u001b[2m\u001b[36m(pid=730)\u001b[0m STOP: TOTAL NO. of ITERATIONS REACHED LIMIT.\n",
            "\u001b[2m\u001b[36m(pid=730)\u001b[0m \n",
            "\u001b[2m\u001b[36m(pid=730)\u001b[0m Increase the number of iterations (max_iter) or scale the data as shown in:\n",
            "\u001b[2m\u001b[36m(pid=730)\u001b[0m     https://scikit-learn.org/stable/modules/preprocessing.html\n",
            "\u001b[2m\u001b[36m(pid=730)\u001b[0m Please also refer to the documentation for alternative solver options:\n",
            "\u001b[2m\u001b[36m(pid=730)\u001b[0m     https://scikit-learn.org/stable/modules/linear_model.html#logistic-regression\n",
            "\u001b[2m\u001b[36m(pid=730)\u001b[0m   extra_warning_msg=_LOGISTIC_SOLVER_CONVERGENCE_MSG)\n",
            "\u001b[2m\u001b[36m(pid=730)\u001b[0m /usr/local/lib/python3.7/dist-packages/sklearn/linear_model/_logistic.py:940: ConvergenceWarning: lbfgs failed to converge (status=1):\n",
            "\u001b[2m\u001b[36m(pid=730)\u001b[0m STOP: TOTAL NO. of ITERATIONS REACHED LIMIT.\n",
            "\u001b[2m\u001b[36m(pid=730)\u001b[0m \n",
            "\u001b[2m\u001b[36m(pid=730)\u001b[0m Increase the number of iterations (max_iter) or scale the data as shown in:\n",
            "\u001b[2m\u001b[36m(pid=730)\u001b[0m     https://scikit-learn.org/stable/modules/preprocessing.html\n",
            "\u001b[2m\u001b[36m(pid=730)\u001b[0m Please also refer to the documentation for alternative solver options:\n",
            "\u001b[2m\u001b[36m(pid=730)\u001b[0m     https://scikit-learn.org/stable/modules/linear_model.html#logistic-regression\n",
            "\u001b[2m\u001b[36m(pid=730)\u001b[0m   extra_warning_msg=_LOGISTIC_SOLVER_CONVERGENCE_MSG)\n",
            "\u001b[2m\u001b[36m(pid=730)\u001b[0m /usr/local/lib/python3.7/dist-packages/sklearn/linear_model/_logistic.py:940: ConvergenceWarning: lbfgs failed to converge (status=1):\n",
            "\u001b[2m\u001b[36m(pid=730)\u001b[0m STOP: TOTAL NO. of ITERATIONS REACHED LIMIT.\n",
            "\u001b[2m\u001b[36m(pid=730)\u001b[0m \n",
            "\u001b[2m\u001b[36m(pid=730)\u001b[0m Increase the number of iterations (max_iter) or scale the data as shown in:\n",
            "\u001b[2m\u001b[36m(pid=730)\u001b[0m     https://scikit-learn.org/stable/modules/preprocessing.html\n",
            "\u001b[2m\u001b[36m(pid=730)\u001b[0m Please also refer to the documentation for alternative solver options:\n",
            "\u001b[2m\u001b[36m(pid=730)\u001b[0m     https://scikit-learn.org/stable/modules/linear_model.html#logistic-regression\n",
            "\u001b[2m\u001b[36m(pid=730)\u001b[0m   extra_warning_msg=_LOGISTIC_SOLVER_CONVERGENCE_MSG)\n",
            "\u001b[2m\u001b[36m(pid=730)\u001b[0m /usr/local/lib/python3.7/dist-packages/sklearn/linear_model/_logistic.py:940: ConvergenceWarning: lbfgs failed to converge (status=1):\n",
            "\u001b[2m\u001b[36m(pid=730)\u001b[0m STOP: TOTAL NO. of ITERATIONS REACHED LIMIT.\n",
            "\u001b[2m\u001b[36m(pid=730)\u001b[0m \n",
            "\u001b[2m\u001b[36m(pid=730)\u001b[0m Increase the number of iterations (max_iter) or scale the data as shown in:\n",
            "\u001b[2m\u001b[36m(pid=730)\u001b[0m     https://scikit-learn.org/stable/modules/preprocessing.html\n",
            "\u001b[2m\u001b[36m(pid=730)\u001b[0m Please also refer to the documentation for alternative solver options:\n",
            "\u001b[2m\u001b[36m(pid=730)\u001b[0m     https://scikit-learn.org/stable/modules/linear_model.html#logistic-regression\n",
            "\u001b[2m\u001b[36m(pid=730)\u001b[0m   extra_warning_msg=_LOGISTIC_SOLVER_CONVERGENCE_MSG)\n",
            "\u001b[2m\u001b[36m(pid=730)\u001b[0m /usr/local/lib/python3.7/dist-packages/sklearn/linear_model/_logistic.py:940: ConvergenceWarning: lbfgs failed to converge (status=1):\n",
            "\u001b[2m\u001b[36m(pid=730)\u001b[0m STOP: TOTAL NO. of ITERATIONS REACHED LIMIT.\n",
            "\u001b[2m\u001b[36m(pid=730)\u001b[0m \n",
            "\u001b[2m\u001b[36m(pid=730)\u001b[0m Increase the number of iterations (max_iter) or scale the data as shown in:\n",
            "\u001b[2m\u001b[36m(pid=730)\u001b[0m     https://scikit-learn.org/stable/modules/preprocessing.html\n",
            "\u001b[2m\u001b[36m(pid=730)\u001b[0m Please also refer to the documentation for alternative solver options:\n",
            "\u001b[2m\u001b[36m(pid=730)\u001b[0m     https://scikit-learn.org/stable/modules/linear_model.html#logistic-regression\n",
            "\u001b[2m\u001b[36m(pid=730)\u001b[0m   extra_warning_msg=_LOGISTIC_SOLVER_CONVERGENCE_MSG)\n",
            "\u001b[2m\u001b[36m(pid=730)\u001b[0m /usr/local/lib/python3.7/dist-packages/sklearn/linear_model/_logistic.py:940: ConvergenceWarning: lbfgs failed to converge (status=1):\n",
            "\u001b[2m\u001b[36m(pid=730)\u001b[0m STOP: TOTAL NO. of ITERATIONS REACHED LIMIT.\n",
            "\u001b[2m\u001b[36m(pid=730)\u001b[0m \n",
            "\u001b[2m\u001b[36m(pid=730)\u001b[0m Increase the number of iterations (max_iter) or scale the data as shown in:\n",
            "\u001b[2m\u001b[36m(pid=730)\u001b[0m     https://scikit-learn.org/stable/modules/preprocessing.html\n",
            "\u001b[2m\u001b[36m(pid=730)\u001b[0m Please also refer to the documentation for alternative solver options:\n",
            "\u001b[2m\u001b[36m(pid=730)\u001b[0m     https://scikit-learn.org/stable/modules/linear_model.html#logistic-regression\n",
            "\u001b[2m\u001b[36m(pid=730)\u001b[0m   extra_warning_msg=_LOGISTIC_SOLVER_CONVERGENCE_MSG)\n",
            "\u001b[2m\u001b[36m(pid=730)\u001b[0m /usr/local/lib/python3.7/dist-packages/sklearn/linear_model/_logistic.py:940: ConvergenceWarning: lbfgs failed to converge (status=1):\n",
            "\u001b[2m\u001b[36m(pid=730)\u001b[0m STOP: TOTAL NO. of ITERATIONS REACHED LIMIT.\n",
            "\u001b[2m\u001b[36m(pid=730)\u001b[0m \n",
            "\u001b[2m\u001b[36m(pid=730)\u001b[0m Increase the number of iterations (max_iter) or scale the data as shown in:\n",
            "\u001b[2m\u001b[36m(pid=730)\u001b[0m     https://scikit-learn.org/stable/modules/preprocessing.html\n",
            "\u001b[2m\u001b[36m(pid=730)\u001b[0m Please also refer to the documentation for alternative solver options:\n",
            "\u001b[2m\u001b[36m(pid=730)\u001b[0m     https://scikit-learn.org/stable/modules/linear_model.html#logistic-regression\n",
            "\u001b[2m\u001b[36m(pid=730)\u001b[0m   extra_warning_msg=_LOGISTIC_SOLVER_CONVERGENCE_MSG)\n",
            "\u001b[2m\u001b[36m(pid=730)\u001b[0m /usr/local/lib/python3.7/dist-packages/sklearn/linear_model/_logistic.py:940: ConvergenceWarning: lbfgs failed to converge (status=1):\n",
            "\u001b[2m\u001b[36m(pid=730)\u001b[0m STOP: TOTAL NO. of ITERATIONS REACHED LIMIT.\n",
            "\u001b[2m\u001b[36m(pid=730)\u001b[0m \n",
            "\u001b[2m\u001b[36m(pid=730)\u001b[0m Increase the number of iterations (max_iter) or scale the data as shown in:\n",
            "\u001b[2m\u001b[36m(pid=730)\u001b[0m     https://scikit-learn.org/stable/modules/preprocessing.html\n",
            "\u001b[2m\u001b[36m(pid=730)\u001b[0m Please also refer to the documentation for alternative solver options:\n",
            "\u001b[2m\u001b[36m(pid=730)\u001b[0m     https://scikit-learn.org/stable/modules/linear_model.html#logistic-regression\n",
            "\u001b[2m\u001b[36m(pid=730)\u001b[0m   extra_warning_msg=_LOGISTIC_SOLVER_CONVERGENCE_MSG)\n",
            "\u001b[2m\u001b[36m(pid=730)\u001b[0m /usr/local/lib/python3.7/dist-packages/sklearn/linear_model/_logistic.py:940: ConvergenceWarning: lbfgs failed to converge (status=1):\n",
            "\u001b[2m\u001b[36m(pid=730)\u001b[0m STOP: TOTAL NO. of ITERATIONS REACHED LIMIT.\n",
            "\u001b[2m\u001b[36m(pid=730)\u001b[0m \n",
            "\u001b[2m\u001b[36m(pid=730)\u001b[0m Increase the number of iterations (max_iter) or scale the data as shown in:\n",
            "\u001b[2m\u001b[36m(pid=730)\u001b[0m     https://scikit-learn.org/stable/modules/preprocessing.html\n",
            "\u001b[2m\u001b[36m(pid=730)\u001b[0m Please also refer to the documentation for alternative solver options:\n",
            "\u001b[2m\u001b[36m(pid=730)\u001b[0m     https://scikit-learn.org/stable/modules/linear_model.html#logistic-regression\n",
            "\u001b[2m\u001b[36m(pid=730)\u001b[0m   extra_warning_msg=_LOGISTIC_SOLVER_CONVERGENCE_MSG)\n",
            "\u001b[2m\u001b[36m(pid=730)\u001b[0m /usr/local/lib/python3.7/dist-packages/sklearn/linear_model/_logistic.py:940: ConvergenceWarning: lbfgs failed to converge (status=1):\n",
            "\u001b[2m\u001b[36m(pid=730)\u001b[0m STOP: TOTAL NO. of ITERATIONS REACHED LIMIT.\n",
            "\u001b[2m\u001b[36m(pid=730)\u001b[0m \n",
            "\u001b[2m\u001b[36m(pid=730)\u001b[0m Increase the number of iterations (max_iter) or scale the data as shown in:\n",
            "\u001b[2m\u001b[36m(pid=730)\u001b[0m     https://scikit-learn.org/stable/modules/preprocessing.html\n",
            "\u001b[2m\u001b[36m(pid=730)\u001b[0m Please also refer to the documentation for alternative solver options:\n",
            "\u001b[2m\u001b[36m(pid=730)\u001b[0m     https://scikit-learn.org/stable/modules/linear_model.html#logistic-regression\n",
            "\u001b[2m\u001b[36m(pid=730)\u001b[0m   extra_warning_msg=_LOGISTIC_SOLVER_CONVERGENCE_MSG)\n",
            "\u001b[2m\u001b[36m(pid=730)\u001b[0m /usr/local/lib/python3.7/dist-packages/sklearn/linear_model/_sag.py:330: ConvergenceWarning: The max_iter was reached which means the coef_ did not converge\n",
            "\u001b[2m\u001b[36m(pid=730)\u001b[0m   \"the coef_ did not converge\", ConvergenceWarning)\n",
            "\u001b[2m\u001b[36m(pid=730)\u001b[0m /usr/local/lib/python3.7/dist-packages/sklearn/linear_model/_sag.py:330: ConvergenceWarning: The max_iter was reached which means the coef_ did not converge\n",
            "\u001b[2m\u001b[36m(pid=730)\u001b[0m   \"the coef_ did not converge\", ConvergenceWarning)\n",
            "\u001b[2m\u001b[36m(pid=730)\u001b[0m /usr/local/lib/python3.7/dist-packages/sklearn/linear_model/_sag.py:330: ConvergenceWarning: The max_iter was reached which means the coef_ did not converge\n",
            "\u001b[2m\u001b[36m(pid=730)\u001b[0m   \"the coef_ did not converge\", ConvergenceWarning)\n",
            "\u001b[2m\u001b[36m(pid=730)\u001b[0m /usr/local/lib/python3.7/dist-packages/sklearn/linear_model/_sag.py:330: ConvergenceWarning: The max_iter was reached which means the coef_ did not converge\n",
            "\u001b[2m\u001b[36m(pid=730)\u001b[0m   \"the coef_ did not converge\", ConvergenceWarning)\n",
            "\u001b[2m\u001b[36m(pid=730)\u001b[0m /usr/local/lib/python3.7/dist-packages/sklearn/linear_model/_sag.py:330: ConvergenceWarning: The max_iter was reached which means the coef_ did not converge\n",
            "\u001b[2m\u001b[36m(pid=730)\u001b[0m   \"the coef_ did not converge\", ConvergenceWarning)\n",
            "\u001b[2m\u001b[36m(pid=730)\u001b[0m /usr/local/lib/python3.7/dist-packages/sklearn/linear_model/_sag.py:330: ConvergenceWarning: The max_iter was reached which means the coef_ did not converge\n",
            "\u001b[2m\u001b[36m(pid=730)\u001b[0m   \"the coef_ did not converge\", ConvergenceWarning)\n",
            "/usr/local/lib/python3.7/dist-packages/sklearn/linear_model/_logistic.py:940: ConvergenceWarning:\n",
            "\n",
            "lbfgs failed to converge (status=1):\n",
            "STOP: TOTAL NO. of ITERATIONS REACHED LIMIT.\n",
            "\n",
            "Increase the number of iterations (max_iter) or scale the data as shown in:\n",
            "    https://scikit-learn.org/stable/modules/preprocessing.html\n",
            "Please also refer to the documentation for alternative solver options:\n",
            "    https://scikit-learn.org/stable/modules/linear_model.html#logistic-regression\n",
            "\n"
          ],
          "name": "stderr"
        },
        {
          "output_type": "execute_result",
          "data": {
            "text/plain": [
              "TuneGridSearchCV(cv=StratifiedKFold(n_splits=5, random_state=None, shuffle=False),\n",
              "                 early_stopping=None, error_score='raise',\n",
              "                 estimator=LogisticRegression(C=1.0, class_weight=None,\n",
              "                                              dual=False, fit_intercept=True,\n",
              "                                              intercept_scaling=1,\n",
              "                                              l1_ratio=None, max_iter=100,\n",
              "                                              multi_class='auto', n_jobs=None,\n",
              "                                              penalty='l2', random_state=None,\n",
              "                                              solver='lbfgs', tol=0.0001,\n",
              "                                              verbose=0, wa...\n",
              "                          <class 'ray.tune.logger.CSVLogger'>],\n",
              "                 max_iters=1, n_jobs=-1,\n",
              "                 param_grid={'C': [0.001, 0.1, 1, 10, 100],\n",
              "                             'max_iter': [100, 150, 200],\n",
              "                             'solver': ['liblinear', 'lbfgs', 'newton-cg',\n",
              "                                        'sag', 'saga']},\n",
              "                 pipeline_auto_early_stop=True, refit=True,\n",
              "                 return_train_score=False,\n",
              "                 scoring={'score': make_scorer(f1_score, average=binary)},\n",
              "                 sk_n_jobs=1, stopper=None, time_budget_s=None, use_gpu=True,\n",
              "                 verbose=0)"
            ]
          },
          "metadata": {
            "tags": []
          },
          "execution_count": 28
        }
      ]
    },
    {
      "cell_type": "code",
      "metadata": {
        "colab": {
          "base_uri": "https://localhost:8080/"
        },
        "id": "-W2OJi-TZQi3",
        "outputId": "f5a4daf1-594c-4005-8402-7dba6a047f95"
      },
      "source": [
        "# Get the best performing model\n",
        "logreg_clf.best_estimator_"
      ],
      "execution_count": 29,
      "outputs": [
        {
          "output_type": "execute_result",
          "data": {
            "text/plain": [
              "LogisticRegression(C=100, class_weight=None, dual=False, fit_intercept=True,\n",
              "                   intercept_scaling=1, l1_ratio=None, max_iter=100,\n",
              "                   multi_class='auto', n_jobs=None, penalty='l2',\n",
              "                   random_state=None, solver='lbfgs', tol=0.0001, verbose=0,\n",
              "                   warm_start=False)"
            ]
          },
          "metadata": {
            "tags": []
          },
          "execution_count": 29
        }
      ]
    },
    {
      "cell_type": "code",
      "metadata": {
        "id": "gxvxFD7fywim"
      },
      "source": [
        "# Save and load the model if required\n",
        "# import joblib\n",
        "# joblib.dump(logreg_clf.best_estimator_, '/content/drive/MyDrive/Colab Notebooks/uci/ospi/models/log_reg.pkl')\n",
        "# logreg_clf = joblib.load('/content/drive/MyDrive/Colab Notebooks/uci/ospi/models/log_reg.pkl')"
      ],
      "execution_count": 30,
      "outputs": []
    },
    {
      "cell_type": "code",
      "metadata": {
        "id": "SG02tlhMbsuA"
      },
      "source": [
        "# Use model for prediction\n",
        "y_pred = logreg_clf.predict(X_test)"
      ],
      "execution_count": 31,
      "outputs": []
    },
    {
      "cell_type": "markdown",
      "metadata": {
        "id": "AluIog7kbz_I"
      },
      "source": [
        "## Model Evaluation"
      ]
    },
    {
      "cell_type": "markdown",
      "metadata": {
        "id": "71qJIhnzOpaf"
      },
      "source": [
        "The method of evaluation chosen by the authors of the original paper is F1 score. In order to compare our result with the author's result, it is beneficial for us to compute F1 score."
      ]
    },
    {
      "cell_type": "code",
      "metadata": {
        "colab": {
          "base_uri": "https://localhost:8080/"
        },
        "id": "h5ysa2n3b5rr",
        "outputId": "4ab0d426-c9d3-4542-d720-fb44000bb735"
      },
      "source": [
        "print(classification_report(y_test, y_pred))"
      ],
      "execution_count": 32,
      "outputs": [
        {
          "output_type": "stream",
          "text": [
            "              precision    recall  f1-score   support\n",
            "\n",
            "       False       0.95      0.89      0.92      2594\n",
            "        True       0.55      0.74      0.63       489\n",
            "\n",
            "    accuracy                           0.86      3083\n",
            "   macro avg       0.75      0.81      0.77      3083\n",
            "weighted avg       0.88      0.86      0.87      3083\n",
            "\n"
          ],
          "name": "stdout"
        }
      ]
    },
    {
      "cell_type": "markdown",
      "metadata": {
        "id": "7Dup_ko1gIfh"
      },
      "source": [
        "The average f1 score came out to around 0.77 which is quite impressive. Though it could not beat the models used in the original paper, it is not far behind them."
      ]
    },
    {
      "cell_type": "markdown",
      "metadata": {
        "id": "US_IgplMltHo"
      },
      "source": [
        "## Model Interpretation"
      ]
    },
    {
      "cell_type": "markdown",
      "metadata": {
        "id": "uSTmM6zLlwcf"
      },
      "source": [
        "In order to know on what basis machine learning models are giving us these results, it is necessary to understand how the trained model is looking at the features of the datasets. Furthermore, it is also helpful for us to know how a particular value of feature is affecting the outcome. We will be using SHAP values for model interpretation, beginning with the feature importance.\n",
        "It should also be noted that coefficients provided by the logistic regression models can also be interpreted as feature importances."
      ]
    },
    {
      "cell_type": "code",
      "metadata": {
        "id": "ffJOIN-5nVli"
      },
      "source": [
        "# Create a datframe with columns and their corresponsing coefficients\n",
        "coef_df = pd.DataFrame(list(zip(df.drop('Revenue', axis=1).columns, logreg_clf.best_estimator_.coef_[0])), columns=['column', 'coef'])\n",
        "coef_df.sort_values('coef', ascending=False, inplace=True)"
      ],
      "execution_count": 33,
      "outputs": []
    },
    {
      "cell_type": "code",
      "metadata": {
        "id": "2PQ0Okz-wpMa"
      },
      "source": [
        "# Comput shap values\n",
        "explainer = shap.Explainer(logreg_clf.best_estimator_, X_train, feature_names=df.drop('Revenue', axis=1).columns)\n",
        "shap_values = explainer(X_test)"
      ],
      "execution_count": 34,
      "outputs": []
    },
    {
      "cell_type": "code",
      "metadata": {
        "colab": {
          "base_uri": "https://localhost:8080/",
          "height": 418
        },
        "id": "_Bo0GC8Wwq5J",
        "outputId": "ded4f6e1-8bbf-4408-ff41-5cfe26d2a7b6"
      },
      "source": [
        "# Plot shap values\n",
        "shap.plots.bar(shap_values)"
      ],
      "execution_count": 35,
      "outputs": [
        {
          "output_type": "display_data",
          "data": {
            "image/png": "[encoded data removed]",
            "text/plain": [
              "<Figure size 576x468 with 1 Axes>"
            ]
          },
          "metadata": {
            "tags": []
          }
        }
      ]
    },
    {
      "cell_type": "code",
      "metadata": {
        "colab": {
          "base_uri": "https://localhost:8080/",
          "height": 542
        },
        "id": "SbYWB5G9yTLA",
        "outputId": "e9a97823-6eae-435b-fbe8-16f5601b9410"
      },
      "source": [
        "# Plot coefficients of logistic regression model\n",
        "fig = px.bar(coef_df[:10], x='coef', y='column', orientation='h')\n",
        "fig.show(renderer=\"colab\")"
      ],
      "execution_count": 36,
      "outputs": [
        {
          "output_type": "display_data",
          "data": {
            "text/html": [
              "<html>\n",
              "<head><meta charset=\"utf-8\" /></head>\n",
              "<body>\n",
              "    <div>\n",
              "            <script src=\"https://cdnjs.cloudflare.com/ajax/libs/mathjax/2.7.5/MathJax.js?config=TeX-AMS-MML_SVG\"></script><script type=\"text/javascript\">if (window.MathJax) {MathJax.Hub.Config({SVG: {font: \"STIX-Web\"}});}</script>\n",
              "                <script type=\"text/javascript\">window.PlotlyConfig = {MathJaxConfig: 'local'};</script>\n",
              "        <script src=\"https://cdn.plot.ly/plotly-latest.min.js\"></script>    \n",
              "            <div id=\"55af43fa-2f24-4a1b-9e27-ef174daa1b1a\" class=\"plotly-graph-div\" style=\"height:525px; width:100%;\"></div>\n",
              "            <script type=\"text/javascript\">\n",
              "                \n",
              "                    window.PLOTLYENV=window.PLOTLYENV || {};\n",
              "                    \n",
              "                if (document.getElementById(\"55af43fa-2f24-4a1b-9e27-ef174daa1b1a\")) {\n",
              "                    Plotly.newPlot(\n",
              "                        '55af43fa-2f24-4a1b-9e27-ef174daa1b1a',\n",
              "                        [{\"alignmentgroup\": \"True\", \"hoverlabel\": {\"namelength\": 0}, \"hovertemplate\": \"coef=%{x}<br>column=%{y}\", \"legendgroup\": \"\", \"marker\": {\"color\": \"#636efa\"}, \"name\": \"\", \"offsetgroup\": \"\", \"orientation\": \"h\", \"showlegend\": false, \"textposition\": \"auto\", \"type\": \"bar\", \"x\": [50.32986198894715, 4.592069601828041, 2.4174484589212333, 2.32851370873954, 1.8712921240427207, 1.321386343455726, 1.1570748771833923, 1.138160747481194, 0.9579565331406799, 0.9304347068669069], \"xaxis\": \"x\", \"y\": [\"PageValues\", \"ProductRelated_Duration\", \"Informational\", \"TrafficType__16\", \"OperatingSystems__7\", \"Browser__12\", \"ProductRelated\", \"TrafficType__8\", \"Month__Nov\", \"TrafficType__14\"], \"yaxis\": \"y\"}],\n",
              "                        {\"barmode\": \"relative\", \"legend\": {\"tracegroupgap\": 0}, \"margin\": {\"t\": 60}, \"template\": {\"data\": {\"bar\": [{\"error_x\": {\"color\": \"#2a3f5f\"}, \"error_y\": {\"color\": \"#2a3f5f\"}, \"marker\": {\"line\": {\"color\": \"#E5ECF6\", \"width\": 0.5}}, \"type\": \"bar\"}], \"barpolar\": [{\"marker\": {\"line\": {\"color\": \"#E5ECF6\", \"width\": 0.5}}, \"type\": \"barpolar\"}], \"carpet\": [{\"aaxis\": {\"endlinecolor\": \"#2a3f5f\", \"gridcolor\": \"white\", \"linecolor\": \"white\", \"minorgridcolor\": \"white\", \"startlinecolor\": \"#2a3f5f\"}, \"baxis\": {\"endlinecolor\": \"#2a3f5f\", \"gridcolor\": \"white\", \"linecolor\": \"white\", \"minorgridcolor\": \"white\", \"startlinecolor\": \"#2a3f5f\"}, \"type\": \"carpet\"}], \"choropleth\": [{\"colorbar\": {\"outlinewidth\": 0, \"ticks\": \"\"}, \"type\": \"choropleth\"}], \"contour\": [{\"colorbar\": {\"outlinewidth\": 0, \"ticks\": \"\"}, \"colorscale\": [[0.0, \"#0d0887\"], [0.1111111111111111, \"#46039f\"], [0.2222222222222222, \"#7201a8\"], [0.3333333333333333, \"#9c179e\"], [0.4444444444444444, \"#bd3786\"], [0.5555555555555556, \"#d8576b\"], [0.6666666666666666, \"#ed7953\"], [0.7777777777777778, \"#fb9f3a\"], [0.8888888888888888, \"#fdca26\"], [1.0, \"#f0f921\"]], \"type\": \"contour\"}], \"contourcarpet\": [{\"colorbar\": {\"outlinewidth\": 0, \"ticks\": \"\"}, \"type\": \"contourcarpet\"}], \"heatmap\": [{\"colorbar\": {\"outlinewidth\": 0, \"ticks\": \"\"}, \"colorscale\": [[0.0, \"#0d0887\"], [0.1111111111111111, \"#46039f\"], [0.2222222222222222, \"#7201a8\"], [0.3333333333333333, \"#9c179e\"], [0.4444444444444444, \"#bd3786\"], [0.5555555555555556, \"#d8576b\"], [0.6666666666666666, \"#ed7953\"], [0.7777777777777778, \"#fb9f3a\"], [0.8888888888888888, \"#fdca26\"], [1.0, \"#f0f921\"]], \"type\": \"heatmap\"}], \"heatmapgl\": [{\"colorbar\": {\"outlinewidth\": 0, \"ticks\": \"\"}, \"colorscale\": [[0.0, \"#0d0887\"], [0.1111111111111111, \"#46039f\"], [0.2222222222222222, \"#7201a8\"], [0.3333333333333333, \"#9c179e\"], [0.4444444444444444, \"#bd3786\"], [0.5555555555555556, \"#d8576b\"], [0.6666666666666666, \"#ed7953\"], [0.7777777777777778, \"#fb9f3a\"], [0.8888888888888888, \"#fdca26\"], [1.0, \"#f0f921\"]], \"type\": \"heatmapgl\"}], \"histogram\": [{\"marker\": {\"colorbar\": {\"outlinewidth\": 0, \"ticks\": \"\"}}, \"type\": \"histogram\"}], \"histogram2d\": [{\"colorbar\": {\"outlinewidth\": 0, \"ticks\": \"\"}, \"colorscale\": [[0.0, \"#0d0887\"], [0.1111111111111111, \"#46039f\"], [0.2222222222222222, \"#7201a8\"], [0.3333333333333333, \"#9c179e\"], [0.4444444444444444, \"#bd3786\"], [0.5555555555555556, \"#d8576b\"], [0.6666666666666666, \"#ed7953\"], [0.7777777777777778, \"#fb9f3a\"], [0.8888888888888888, \"#fdca26\"], [1.0, \"#f0f921\"]], \"type\": \"histogram2d\"}], \"histogram2dcontour\": [{\"colorbar\": {\"outlinewidth\": 0, \"ticks\": \"\"}, \"colorscale\": [[0.0, \"#0d0887\"], [0.1111111111111111, \"#46039f\"], [0.2222222222222222, \"#7201a8\"], [0.3333333333333333, \"#9c179e\"], [0.4444444444444444, \"#bd3786\"], [0.5555555555555556, \"#d8576b\"], [0.6666666666666666, \"#ed7953\"], [0.7777777777777778, \"#fb9f3a\"], [0.8888888888888888, \"#fdca26\"], [1.0, \"#f0f921\"]], \"type\": \"histogram2dcontour\"}], \"mesh3d\": [{\"colorbar\": {\"outlinewidth\": 0, \"ticks\": \"\"}, \"type\": \"mesh3d\"}], \"parcoords\": [{\"line\": {\"colorbar\": {\"outlinewidth\": 0, \"ticks\": \"\"}}, \"type\": \"parcoords\"}], \"pie\": [{\"automargin\": true, \"type\": \"pie\"}], \"scatter\": [{\"marker\": {\"colorbar\": {\"outlinewidth\": 0, \"ticks\": \"\"}}, \"type\": \"scatter\"}], \"scatter3d\": [{\"line\": {\"colorbar\": {\"outlinewidth\": 0, \"ticks\": \"\"}}, \"marker\": {\"colorbar\": {\"outlinewidth\": 0, \"ticks\": \"\"}}, \"type\": \"scatter3d\"}], \"scattercarpet\": [{\"marker\": {\"colorbar\": {\"outlinewidth\": 0, \"ticks\": \"\"}}, \"type\": \"scattercarpet\"}], \"scattergeo\": [{\"marker\": {\"colorbar\": {\"outlinewidth\": 0, \"ticks\": \"\"}}, \"type\": \"scattergeo\"}], \"scattergl\": [{\"marker\": {\"colorbar\": {\"outlinewidth\": 0, \"ticks\": \"\"}}, \"type\": \"scattergl\"}], \"scattermapbox\": [{\"marker\": {\"colorbar\": {\"outlinewidth\": 0, \"ticks\": \"\"}}, \"type\": \"scattermapbox\"}], \"scatterpolar\": [{\"marker\": {\"colorbar\": {\"outlinewidth\": 0, \"ticks\": \"\"}}, \"type\": \"scatterpolar\"}], \"scatterpolargl\": [{\"marker\": {\"colorbar\": {\"outlinewidth\": 0, \"ticks\": \"\"}}, \"type\": \"scatterpolargl\"}], \"scatterternary\": [{\"marker\": {\"colorbar\": {\"outlinewidth\": 0, \"ticks\": \"\"}}, \"type\": \"scatterternary\"}], \"surface\": [{\"colorbar\": {\"outlinewidth\": 0, \"ticks\": \"\"}, \"colorscale\": [[0.0, \"#0d0887\"], [0.1111111111111111, \"#46039f\"], [0.2222222222222222, \"#7201a8\"], [0.3333333333333333, \"#9c179e\"], [0.4444444444444444, \"#bd3786\"], [0.5555555555555556, \"#d8576b\"], [0.6666666666666666, \"#ed7953\"], [0.7777777777777778, \"#fb9f3a\"], [0.8888888888888888, \"#fdca26\"], [1.0, \"#f0f921\"]], \"type\": \"surface\"}], \"table\": [{\"cells\": {\"fill\": {\"color\": \"#EBF0F8\"}, \"line\": {\"color\": \"white\"}}, \"header\": {\"fill\": {\"color\": \"#C8D4E3\"}, \"line\": {\"color\": \"white\"}}, \"type\": \"table\"}]}, \"layout\": {\"annotationdefaults\": {\"arrowcolor\": \"#2a3f5f\", \"arrowhead\": 0, \"arrowwidth\": 1}, \"coloraxis\": {\"colorbar\": {\"outlinewidth\": 0, \"ticks\": \"\"}}, \"colorscale\": {\"diverging\": [[0, \"#8e0152\"], [0.1, \"#c51b7d\"], [0.2, \"#de77ae\"], [0.3, \"#f1b6da\"], [0.4, \"#fde0ef\"], [0.5, \"#f7f7f7\"], [0.6, \"#e6f5d0\"], [0.7, \"#b8e186\"], [0.8, \"#7fbc41\"], [0.9, \"#4d9221\"], [1, \"#276419\"]], \"sequential\": [[0.0, \"#0d0887\"], [0.1111111111111111, \"#46039f\"], [0.2222222222222222, \"#7201a8\"], [0.3333333333333333, \"#9c179e\"], [0.4444444444444444, \"#bd3786\"], [0.5555555555555556, \"#d8576b\"], [0.6666666666666666, \"#ed7953\"], [0.7777777777777778, \"#fb9f3a\"], [0.8888888888888888, \"#fdca26\"], [1.0, \"#f0f921\"]], \"sequentialminus\": [[0.0, \"#0d0887\"], [0.1111111111111111, \"#46039f\"], [0.2222222222222222, \"#7201a8\"], [0.3333333333333333, \"#9c179e\"], [0.4444444444444444, \"#bd3786\"], [0.5555555555555556, \"#d8576b\"], [0.6666666666666666, \"#ed7953\"], [0.7777777777777778, \"#fb9f3a\"], [0.8888888888888888, \"#fdca26\"], [1.0, \"#f0f921\"]]}, \"colorway\": [\"#636efa\", \"#EF553B\", \"#00cc96\", \"#ab63fa\", \"#FFA15A\", \"#19d3f3\", \"#FF6692\", \"#B6E880\", \"#FF97FF\", \"#FECB52\"], \"font\": {\"color\": \"#2a3f5f\"}, \"geo\": {\"bgcolor\": \"white\", \"lakecolor\": \"white\", \"landcolor\": \"#E5ECF6\", \"showlakes\": true, \"showland\": true, \"subunitcolor\": \"white\"}, \"hoverlabel\": {\"align\": \"left\"}, \"hovermode\": \"closest\", \"mapbox\": {\"style\": \"light\"}, \"paper_bgcolor\": \"white\", \"plot_bgcolor\": \"#E5ECF6\", \"polar\": {\"angularaxis\": {\"gridcolor\": \"white\", \"linecolor\": \"white\", \"ticks\": \"\"}, \"bgcolor\": \"#E5ECF6\", \"radialaxis\": {\"gridcolor\": \"white\", \"linecolor\": \"white\", \"ticks\": \"\"}}, \"scene\": {\"xaxis\": {\"backgroundcolor\": \"#E5ECF6\", \"gridcolor\": \"white\", \"gridwidth\": 2, \"linecolor\": \"white\", \"showbackground\": true, \"ticks\": \"\", \"zerolinecolor\": \"white\"}, \"yaxis\": {\"backgroundcolor\": \"#E5ECF6\", \"gridcolor\": \"white\", \"gridwidth\": 2, \"linecolor\": \"white\", \"showbackground\": true, \"ticks\": \"\", \"zerolinecolor\": \"white\"}, \"zaxis\": {\"backgroundcolor\": \"#E5ECF6\", \"gridcolor\": \"white\", \"gridwidth\": 2, \"linecolor\": \"white\", \"showbackground\": true, \"ticks\": \"\", \"zerolinecolor\": \"white\"}}, \"shapedefaults\": {\"line\": {\"color\": \"#2a3f5f\"}}, \"ternary\": {\"aaxis\": {\"gridcolor\": \"white\", \"linecolor\": \"white\", \"ticks\": \"\"}, \"baxis\": {\"gridcolor\": \"white\", \"linecolor\": \"white\", \"ticks\": \"\"}, \"bgcolor\": \"#E5ECF6\", \"caxis\": {\"gridcolor\": \"white\", \"linecolor\": \"white\", \"ticks\": \"\"}}, \"title\": {\"x\": 0.05}, \"xaxis\": {\"automargin\": true, \"gridcolor\": \"white\", \"linecolor\": \"white\", \"ticks\": \"\", \"title\": {\"standoff\": 15}, \"zerolinecolor\": \"white\", \"zerolinewidth\": 2}, \"yaxis\": {\"automargin\": true, \"gridcolor\": \"white\", \"linecolor\": \"white\", \"ticks\": \"\", \"title\": {\"standoff\": 15}, \"zerolinecolor\": \"white\", \"zerolinewidth\": 2}}}, \"xaxis\": {\"anchor\": \"y\", \"domain\": [0.0, 1.0], \"title\": {\"text\": \"coef\"}}, \"yaxis\": {\"anchor\": \"x\", \"domain\": [0.0, 1.0], \"title\": {\"text\": \"column\"}}},\n",
              "                        {\"responsive\": true}\n",
              "                    ).then(function(){\n",
              "                            \n",
              "var gd = document.getElementById('55af43fa-2f24-4a1b-9e27-ef174daa1b1a');\n",
              "var x = new MutationObserver(function (mutations, observer) {{\n",
              "        var display = window.getComputedStyle(gd).display;\n",
              "        if (!display || display === 'none') {{\n",
              "            console.log([gd, 'removed!']);\n",
              "            Plotly.purge(gd);\n",
              "            observer.disconnect();\n",
              "        }}\n",
              "}});\n",
              "\n",
              "// Listen for the removal of the full notebook cells\n",
              "var notebookContainer = gd.closest('#notebook-container');\n",
              "if (notebookContainer) {{\n",
              "    x.observe(notebookContainer, {childList: true});\n",
              "}}\n",
              "\n",
              "// Listen for the clearing of the current output cell\n",
              "var outputEl = gd.closest('.output');\n",
              "if (outputEl) {{\n",
              "    x.observe(outputEl, {childList: true});\n",
              "}}\n",
              "\n",
              "                        })\n",
              "                };\n",
              "                \n",
              "            </script>\n",
              "        </div>\n",
              "</body>\n",
              "</html>"
            ]
          },
          "metadata": {
            "tags": []
          }
        }
      ]
    },
    {
      "cell_type": "markdown",
      "metadata": {
        "id": "8-JNNp4C38bJ"
      },
      "source": [
        "From the above two plots, it can be observed that shap and the logistic regression model coefficients agree on page values to be the most important variable. The other feature that they are partially agreeing on is the duration for which visitor visits product related pages. Also, month of november seems to be also important for shopping and it makes sense since that is the period near holidays."
      ]
    },
    {
      "cell_type": "code",
      "metadata": {
        "colab": {
          "base_uri": "https://localhost:8080/",
          "height": 585
        },
        "id": "gaGs-vIJ5CYF",
        "outputId": "1dff5e80-8bd4-4294-f787-664d7eaeaa07"
      },
      "source": [
        "shap.plots.beeswarm(shap_values=shap_values, max_display=20)"
      ],
      "execution_count": 37,
      "outputs": [
        {
          "output_type": "display_data",
          "data": {
            "image/png": "[encoded data removed]",
            "text/plain": [
              "<Figure size 576x684 with 2 Axes>"
            ]
          },
          "metadata": {
            "tags": [],
            "needs_background": "light"
          }
        }
      ]
    },
    {
      "cell_type": "markdown",
      "metadata": {
        "id": "3S5fXCQM5Wr3"
      },
      "source": [
        "Some high page values are prominently affecting the model. The higher the page value the higher the chance that the visitor will transact. For exit rates, though it is true that high value will not convert a visitor but low values may not convert her either. Customer spending huge amount of time on product related pages can convert the her into a transacting visitor, though the effect is not even comparable with the effect of page values. Also the customer visiting more number of informational pages may covert into a trasacting user. People shop the least in the month of may and shop the most in the month of november. Traffic type 8 is are the more likely to transact. This is even confirmed from the logitic regression coefficient as it is among the top 10 features affecting the model. Traffic type 10, 11 also contribute to the revenue. People using operating system 2 are more likely to transact. Though less amount of explanation is present from the author for the features such traffic type and operating system, no concrete interpretation for these features."
      ]
    },
    {
      "cell_type": "markdown",
      "metadata": {
        "id": "VOYXLwPvUypx"
      },
      "source": [
        "## Learnings\n",
        "\n",
        "1. Feature selection methods were tried with generic univariate select but it did not improve the performance. Hence the idea to select features is dropped as these methods would reduce the explainability of the model.\n",
        "2. Logistic regression hyperparameter tuning with grid search training on GPU is extremely fast."
      ]
    }
  ]
}