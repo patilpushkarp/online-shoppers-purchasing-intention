{
  "nbformat": 4,
  "nbformat_minor": 0,
  "metadata": {
    "accelerator": "GPU",
    "colab": {
      "name": "svm_train.ipynb",
      "provenance": [],
      "collapsed_sections": []
    },
    "kernelspec": {
      "display_name": "Python 3",
      "name": "python3"
    }
  },
  "cells": [
    {
      "cell_type": "markdown",
      "metadata": {
        "id": "O7Pr4kj9HKdU"
      },
      "source": [
        "# Support Vector Machine"
      ]
    },
    {
      "cell_type": "markdown",
      "metadata": {
        "id": "AM0v1jn0R3dD"
      },
      "source": [
        "```{tip}\n",
        "It is recommended to use google colaboratory for running the notebook\n",
        "```"
      ]
    },
    {
      "cell_type": "code",
      "metadata": {
        "id": "RAV7qN6kH4KN"
      },
      "source": [
        "# Install necessary packages\n",
        "\n",
        "# Install ray tune and tune sklearn\n",
        "# ! pip install tune-sklearn ray[tune]\n",
        "\n",
        "# Install SHAP \n",
        "# ! pip install shap"
      ],
      "execution_count": null,
      "outputs": []
    },
    {
      "cell_type": "markdown",
      "metadata": {
        "id": "KPtl3ZixPKNJ"
      },
      "source": [
        "Support vector machines is one of the most prominent methods in the space of supervised learning. Though this algorithm is quite suitable for high dimensional data, it is quite computationally expensive. Also this method does not provide probability estimate. There are different types types of support vector machines for classification based on mathematical formulation - support vector classifier, nu-support vector classifier, and linear support vector classifier. These algorithms constructs hyperplanes which segregates elements in such a manner that the distance between the hyperplane and the closest element of any class is maximum."
      ]
    },
    {
      "cell_type": "code",
      "metadata": {
        "id": "4TUBRI4dIYzx"
      },
      "source": [
        "from itertools import compress\n",
        "import pandas as pd\n",
        "from imblearn.over_sampling import SMOTE\n",
        "from sklearn.preprocessing import MinMaxScaler\n",
        "from sklearn.model_selection import train_test_split, StratifiedKFold\n",
        "from sklearn.feature_selection import GenericUnivariateSelect, SelectKBest, mutual_info_classif\n",
        "from sklearn.svm import SVC\n",
        "from sklearn.pipeline import Pipeline\n",
        "from sklearn.metrics import classification_report"
      ],
      "execution_count": null,
      "outputs": []
    },
    {
      "cell_type": "code",
      "metadata": {
        "id": "2eytQmsvK_zj"
      },
      "source": [
        "# Load data into dataframe\n",
        "df = pd.read_csv('/content/drive/MyDrive/Colab Notebooks/uci/ospi/datasets/preprocessed_osi.csv')"
      ],
      "execution_count": null,
      "outputs": []
    },
    {
      "cell_type": "markdown",
      "metadata": {
        "id": "xADmiruQSF3-"
      },
      "source": [
        "```{margin}\n",
        "Make sure to change the path of file depending upon the environment you are working on.\n",
        "```"
      ]
    },
    {
      "cell_type": "markdown",
      "metadata": {
        "id": "-hXbP3HjOgrK"
      },
      "source": [
        "## Preprocessing"
      ]
    },
    {
      "cell_type": "markdown",
      "metadata": {
        "id": "d8CCYegJSQjt"
      },
      "source": [
        "As usual we will begin our modelling process with the required preprocessing."
      ]
    },
    {
      "cell_type": "code",
      "metadata": {
        "id": "NGF2g234OilH"
      },
      "source": [
        "# Separate dependent fron independent variables\n",
        "y = df['Revenue']\n",
        "X = df.drop('Revenue', axis=1)"
      ],
      "execution_count": null,
      "outputs": []
    },
    {
      "cell_type": "code",
      "metadata": {
        "id": "sSRkm960Osfg"
      },
      "source": [
        "# Get the train-test split\n",
        "X_train, X_test, y_train, y_test = train_test_split(X, y, random_state=42)"
      ],
      "execution_count": null,
      "outputs": []
    },
    {
      "cell_type": "markdown",
      "metadata": {
        "id": "3HRFXV2zPEKM"
      },
      "source": [
        "Since SVM doesn't have good performance with huge datasets, it is better to select some handful of features before training the model. To select those feature, SelectKBest API of scikit-learn will be used. To help the API to select features, mutual information will be used. Features with high mutual information score with the target variable will be selected."
      ]
    },
    {
      "cell_type": "code",
      "metadata": {
        "colab": {
          "base_uri": "https://localhost:8080/"
        },
        "id": "5uxeFkiEOzyH",
        "outputId": "2db9a7ac-6916-4870-dcb8-924f8f361fa8"
      },
      "source": [
        "# Feature selection based on mutual information\n",
        "select_mutual = SelectKBest(mutual_info_classif, k=12)\n",
        "X_train_mutual = select_mutual.fit_transform(X_train, y_train)\n",
        "columns = list(compress(X_train.columns, select_mutual.get_support()))\n",
        "X_train = X_train[columns]\n",
        "X_test = X_test[columns]\n",
        "X_train.columns"
      ],
      "execution_count": null,
      "outputs": [
        {
          "output_type": "execute_result",
          "data": {
            "text/plain": [
              "Index(['Administrative', 'Administrative_Duration', 'ProductRelated',\n",
              "       'ProductRelated_Duration', 'BounceRates', 'ExitRates', 'PageValues',\n",
              "       'SpecialDay', 'OperatingSystems__3', 'TrafficType__2',\n",
              "       'VisitorType__Returning_Visitor', 'Month__Nov'],\n",
              "      dtype='object')"
            ]
          },
          "metadata": {
            "tags": []
          },
          "execution_count": 6
        }
      ]
    },
    {
      "cell_type": "markdown",
      "metadata": {
        "id": "_P9dSc4oS3X-"
      },
      "source": [
        "SVM are also not suitable imbalanced classes and hence it is necessary to oversample the minority class before modelling."
      ]
    },
    {
      "cell_type": "code",
      "metadata": {
        "id": "D9pI7PFcSsV_"
      },
      "source": [
        "# Oversample the minority class in the target variable\n",
        "oversample = SMOTE()\n",
        "X_train, y_train = oversample.fit_resample(X_train, y_train)"
      ],
      "execution_count": null,
      "outputs": []
    },
    {
      "cell_type": "markdown",
      "metadata": {
        "id": "HfA5UmzkTOBb"
      },
      "source": [
        "Since SVM are computationally expensive, it would be beneficial to scale the values for performace improvement."
      ]
    },
    {
      "cell_type": "code",
      "metadata": {
        "id": "j5BCbluKUUwV"
      },
      "source": [
        "# Scale the data\n",
        "transformer = MinMaxScaler()\n",
        "X_train = transformer.fit_transform(X_train)\n",
        "\n",
        "# Apply same transformation to test set\n",
        "X_test = transformer.transform(X_test)"
      ],
      "execution_count": null,
      "outputs": []
    },
    {
      "cell_type": "markdown",
      "metadata": {
        "id": "X-V2VCF_UchX"
      },
      "source": [
        "## Model training"
      ]
    },
    {
      "cell_type": "markdown",
      "metadata": {
        "id": "LXD63hU-UhGe"
      },
      "source": [
        "### SVC with linear kernel"
      ]
    },
    {
      "cell_type": "code",
      "metadata": {
        "id": "hmskPfpsUYLa"
      },
      "source": [
        "# Declare the model\n",
        "estimator = SVC(kernel='linear')\n",
        "\n",
        "# Declare cross-validation method\n",
        "cv = StratifiedKFold()\n",
        "\n",
        "# Declare parameters grid\n",
        "param_grid = dict(\n",
        "    C = [0.01, 0.1, 1, 10, 100],\n",
        "\n",
        ")"
      ],
      "execution_count": null,
      "outputs": []
    },
    {
      "cell_type": "code",
      "metadata": {
        "id": "5FrD2dQBVj2d"
      },
      "source": [
        "# Import grid search from tune sklearn\n",
        "from tune_sklearn import TuneGridSearchCV\n",
        "\n",
        "# Fit the model\n",
        "linear_svc_clf = TuneGridSearchCV(estimator, param_grid, cv=cv,  n_jobs=-1, verbose=2, use_gpu=True, loggers=[\"csv\"])\n",
        "linear_svc_clf.fit(X_train, y_train)"
      ],
      "execution_count": null,
      "outputs": []
    },
    {
      "cell_type": "code",
      "metadata": {
        "colab": {
          "base_uri": "https://localhost:8080/"
        },
        "id": "XuKYq0c6XjR9",
        "outputId": "407daacd-c4d6-47aa-c5cd-a158e17f3691"
      },
      "source": [
        "# Print the best estimator\n",
        "linear_svc_clf.best_estimator_"
      ],
      "execution_count": null,
      "outputs": [
        {
          "output_type": "execute_result",
          "data": {
            "text/plain": [
              "SVC(C=100, break_ties=False, cache_size=200, class_weight=None, coef0=0.0,\n",
              "    decision_function_shape='ovr', degree=3, gamma='scale', kernel='linear',\n",
              "    max_iter=-1, probability=False, random_state=None, shrinking=True,\n",
              "    tol=0.001, verbose=False)"
            ]
          },
          "metadata": {
            "tags": []
          },
          "execution_count": 11
        }
      ]
    },
    {
      "cell_type": "code",
      "metadata": {
        "id": "utDmT5sTXlBy"
      },
      "source": [
        "# Save and load the model if required\n",
        "# import joblib\n",
        "# joblib.dump(linear_svc_clf.best_estimator_, '/content/drive/MyDrive/Colab Notebooks/uci/ospi/models/linear_svc.pkl')\n",
        "# linear_svc_clf = joblib.load('/content/drive/MyDrive/Colab Notebooks/uci/ospi/models/linear_svc.pkl')"
      ],
      "execution_count": null,
      "outputs": []
    },
    {
      "cell_type": "code",
      "metadata": {
        "id": "01m385hWYVyT"
      },
      "source": [
        "# Use models for prediction\n",
        "y_pred_linear = linear_svc_clf.predict(X_test)"
      ],
      "execution_count": null,
      "outputs": []
    },
    {
      "cell_type": "markdown",
      "metadata": {
        "id": "kchi9cp8Tch9"
      },
      "source": [
        "### SVC with RBF kernel"
      ]
    },
    {
      "cell_type": "code",
      "metadata": {
        "id": "4lwDgCn0Thov"
      },
      "source": [
        "# Declare the model\n",
        "estimator = SVC(kernel='rbf', probability=True)\n",
        "\n",
        "# Declare cross-validation method\n",
        "cv = StratifiedKFold()\n",
        "\n",
        "# Declare parameters grid\n",
        "param_grid = dict(\n",
        "    C = [0.01, 0.1, 1, 10, 100],\n",
        "    gamma = [0.01, 0.1, 1, 10, 100]\n",
        ")"
      ],
      "execution_count": null,
      "outputs": []
    },
    {
      "cell_type": "code",
      "metadata": {
        "id": "5GF3JVsz1CXG"
      },
      "source": [
        "# Import grid search from tune sklearn\n",
        "from tune_sklearn import TuneGridSearchCV\n",
        "\n",
        "# Fit the model\n",
        "rbf_svc_clf = TuneGridSearchCV(estimator, param_grid, cv=cv,  n_jobs=-1, verbose=2, use_gpu=True, loggers=[\"csv\"])\n",
        "rbf_svc_clf.fit(X_train, y_train)"
      ],
      "execution_count": null,
      "outputs": []
    },
    {
      "cell_type": "code",
      "metadata": {
        "colab": {
          "base_uri": "https://localhost:8080/"
        },
        "id": "IrTei-iO1J4-",
        "outputId": "88cf7392-3753-4276-be73-2cc36ac30ae0"
      },
      "source": [
        "rbf_svc_clf.best_estimator_"
      ],
      "execution_count": null,
      "outputs": [
        {
          "output_type": "execute_result",
          "data": {
            "text/plain": [
              "SVC(C=100, break_ties=False, cache_size=200, class_weight=None, coef0=0.0,\n",
              "    decision_function_shape='ovr', degree=3, gamma=10, kernel='rbf',\n",
              "    max_iter=-1, probability=True, random_state=None, shrinking=True, tol=0.001,\n",
              "    verbose=False)"
            ]
          },
          "metadata": {
            "tags": []
          },
          "execution_count": 17
        }
      ]
    },
    {
      "cell_type": "code",
      "metadata": {
        "id": "pCPFth0b1PiI"
      },
      "source": [
        "# Save and load the model if required\n",
        "# import joblib\n",
        "# joblib.dump(rbf_svc_clf.best_estimator_, '/content/drive/MyDrive/Colab Notebooks/uci/ospi/models/rbf_svc.pkl')\n",
        "# rbf_svc_clf = joblib.load('/content/drive/MyDrive/Colab Notebooks/uci/ospi/models/rbf_svc.pkl')"
      ],
      "execution_count": null,
      "outputs": []
    },
    {
      "cell_type": "code",
      "metadata": {
        "id": "KKf2x3HM1Y6w"
      },
      "source": [
        "# Use models for prediction\n",
        "y_pred_rbf = rbf_svc_clf.predict(X_test)"
      ],
      "execution_count": null,
      "outputs": []
    },
    {
      "cell_type": "markdown",
      "metadata": {
        "id": "GFYW31JLXt6t"
      },
      "source": [
        "## Model Evaluation"
      ]
    },
    {
      "cell_type": "code",
      "metadata": {
        "colab": {
          "base_uri": "https://localhost:8080/"
        },
        "id": "fCQMvYgyX0xY",
        "outputId": "84b5f815-2b38-4ed7-8268-36c0c8519b87"
      },
      "source": [
        "print(classification_report(y_test, y_pred_linear))"
      ],
      "execution_count": null,
      "outputs": [
        {
          "output_type": "stream",
          "text": [
            "              precision    recall  f1-score   support\n",
            "\n",
            "       False       0.95      0.90      0.93      2594\n",
            "        True       0.59      0.75      0.66       489\n",
            "\n",
            "    accuracy                           0.88      3083\n",
            "   macro avg       0.77      0.83      0.79      3083\n",
            "weighted avg       0.89      0.88      0.88      3083\n",
            "\n"
          ],
          "name": "stdout"
        }
      ]
    },
    {
      "cell_type": "code",
      "metadata": {
        "colab": {
          "base_uri": "https://localhost:8080/"
        },
        "id": "_MPpjaB61dit",
        "outputId": "9e2e2982-6561-4b50-f9a5-9b0dd54d7144"
      },
      "source": [
        "print(classification_report(y_test, y_pred_rbf))"
      ],
      "execution_count": null,
      "outputs": [
        {
          "output_type": "stream",
          "text": [
            "              precision    recall  f1-score   support\n",
            "\n",
            "       False       0.93      0.93      0.93      2594\n",
            "        True       0.63      0.60      0.61       489\n",
            "\n",
            "    accuracy                           0.88      3083\n",
            "   macro avg       0.78      0.77      0.77      3083\n",
            "weighted avg       0.88      0.88      0.88      3083\n",
            "\n"
          ],
          "name": "stdout"
        }
      ]
    },
    {
      "cell_type": "markdown",
      "metadata": {
        "id": "1y6xSK36cnn7"
      },
      "source": [
        "The average F1 score of 0.80 computed with linear kernel is comparable to the F1 scores in the original papers and is better than the one obtained with logistic regression. But on the other hand the F1 score obtained with RBF kernel though worse than the one obtained with logistic regression is not bad either."
      ]
    },
    {
      "cell_type": "markdown",
      "metadata": {
        "id": "pX2Q2muPcHy7"
      },
      "source": [
        "## Model Interpretation"
      ]
    },
    {
      "cell_type": "markdown",
      "metadata": {
        "id": "g5XqHfwNMeTk"
      },
      "source": [
        "It is difficult to interpret support vector machines due to transaformations applied by it to the data with the help of kernels. Linear SVC can be explained more esily that SVC with RBF kernel."
      ]
    },
    {
      "cell_type": "code",
      "metadata": {
        "id": "_5MBFGEXcJ6Y"
      },
      "source": [
        "# Import SHAP\n",
        "import shap"
      ],
      "execution_count": null,
      "outputs": []
    },
    {
      "cell_type": "markdown",
      "metadata": {
        "id": "fsj6gd4rNw2K"
      },
      "source": [
        "### Linear SVC interpretation"
      ]
    },
    {
      "cell_type": "code",
      "metadata": {
        "id": "aDcVX-6iM8W0"
      },
      "source": [
        "# Comput shap values for linear SVC\n",
        "explainer = shap.Explainer(linear_svc_clf, X_train, feature_names=columns)\n",
        "shap_values = explainer(X_test)"
      ],
      "execution_count": null,
      "outputs": []
    },
    {
      "cell_type": "code",
      "metadata": {
        "colab": {
          "base_uri": "https://localhost:8080/",
          "height": 473
        },
        "id": "nYxftOX2N4Jp",
        "outputId": "7a73478e-1586-4569-c501-def0416e40f2"
      },
      "source": [
        "# Plot shap values with bar chart\n",
        "shap.plots.bar(shap_values, 12)"
      ],
      "execution_count": null,
      "outputs": [
        {
          "output_type": "display_data",
          "data": {
            "image/png": "[encoded data removed]",
            "text/plain": [
              "<Figure size 576x540 with 1 Axes>"
            ]
          },
          "metadata": {
            "tags": []
          }
        }
      ]
    },
    {
      "cell_type": "code",
      "metadata": {
        "colab": {
          "base_uri": "https://localhost:8080/",
          "height": 411
        },
        "id": "C45L3ZFeOA2p",
        "outputId": "4043c899-94a7-40b3-debc-febe54d464bf"
      },
      "source": [
        "# Plot beeswarm chart\n",
        "shap.plots.beeswarm(shap_values, 12)"
      ],
      "execution_count": null,
      "outputs": [
        {
          "output_type": "display_data",
          "data": {
            "image/png": "[encoded data removed]",
            "text/plain": [
              "<Figure size 576x453.6 with 2 Axes>"
            ]
          },
          "metadata": {
            "tags": [],
            "needs_background": "light"
          }
        }
      ]
    },
    {
      "cell_type": "markdown",
      "metadata": {
        "id": "avC4__d1OVoW"
      },
      "source": [
        "The information learned by linear SVC algorithm is similar to that of logistic regression. Page value feature has the highest SHAP value i.e. page values affect the highest for converting the visitor. The higher the page value the higher is the chance that the visitor will transact. Higher page values will decrease the chance that a visitor will transact. Also, it can be seen that more the time spent by visitor on product related pages and more the number of product related pages she visits, more the chance of that visitor transacting. "
      ]
    },
    {
      "cell_type": "markdown",
      "metadata": {
        "id": "omsvrsrkN0Zd"
      },
      "source": [
        "### SVC with RBF interpretation"
      ]
    },
    {
      "cell_type": "code",
      "metadata": {
        "id": "arGYcfVdUOcu"
      },
      "source": [
        "explainer = shap.KernelExplainer(rbf_svc_clf.predict_proba, shap.kmeans(X_train, 100), link=\"logit\")\n",
        "shap_values = explainer.shap_values(shap.sample(X_test, 5, random_state=1))"
      ],
      "execution_count": null,
      "outputs": []
    },
    {
      "cell_type": "code",
      "metadata": {
        "colab": {
          "base_uri": "https://localhost:8080/",
          "height": 407
        },
        "id": "Wm915DNDNtF9",
        "outputId": "000cb724-6c1a-4100-dcd3-61c0ebac8fe5"
      },
      "source": [
        "# Plot summary plot\n",
        "shap.summary_plot(shap_values, X_test, feature_names=columns, )"
      ],
      "execution_count": null,
      "outputs": [
        {
          "output_type": "display_data",
          "data": {
            "image/png": "[encoded data removed]",
            "text/plain": [
              "<Figure size 576x453.6 with 1 Axes>"
            ]
          },
          "metadata": {
            "tags": [],
            "needs_background": "light"
          }
        }
      ]
    },
    {
      "cell_type": "markdown",
      "metadata": {
        "id": "XIivdeSnQlIc"
      },
      "source": [
        "SVC with RBF kernel partially agress with the information that SVC with linear kernel has. Page values remains the most important feature. Exit rate also made it to the top 5 features which affects the target. Also, it is surprising to note that the features related to the administrative pages contribute more to the model prediction than the features related to product related pages."
      ]
    },
    {
      "cell_type": "markdown",
      "metadata": {
        "id": "SbAX20uBcKqS"
      },
      "source": [
        "## Learnings\n",
        "\n",
        "1. Linear SVC could perform better even with 12 features. Further increase in features does not improve the model performance. This also increase the performace of the model."
      ]
    }
  ]
}