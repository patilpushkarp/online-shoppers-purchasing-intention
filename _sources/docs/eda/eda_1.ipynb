{
 "cells": [
  {
   "cell_type": "markdown",
   "id": "artificial-company",
   "metadata": {},
   "source": [
    "# Exploratory Data Analysis - Univariate"
   ]
  },
  {
   "cell_type": "markdown",
   "id": "brutal-thong",
   "metadata": {},
   "source": [
    "```{tip}\n",
    "This notebook contains interactive graphs and hence are not rendered directly here. Please use \"live code\" option to run it here or run the complete in Google Colaboratory or Binder.\n",
    "\n",
    "```{note}\n",
    "The interactivity for matplotlib graphs does not work with live code functionality. Hence, running the code in Google Colaboratory or Binder is recommended.\n",
    "```\n",
    "\n",
    "```"
   ]
  },
  {
   "cell_type": "code",
   "execution_count": 1,
   "id": "handed-stomach",
   "metadata": {},
   "outputs": [],
   "source": [
    "# Import necessary packages\n",
    "import pandas as pd\n",
    "import plotly.express as px\n",
    "import plotly.graph_objects as go\n",
    "from ipywidgets import widgets\n",
    "from scipy.stats import shapiro\n",
    "import statsmodels.api as sm\n",
    "from matplotlib import pyplot as plt"
   ]
  },
  {
   "cell_type": "code",
   "execution_count": 2,
   "id": "greatest-average",
   "metadata": {},
   "outputs": [],
   "source": [
    "# Load data into dataframe from local\n",
    "# df = pd.read_csv('./../../datasets/online_shoppers_intention.csv')\n",
    "\n",
    "# Load data into dataframe from UCI repository\n",
    "df = pd.read_csv('https://archive.ics.uci.edu/ml/machine-learning-databases/00468/online_shoppers_intention.csv')"
   ]
  },
  {
   "cell_type": "markdown",
   "id": "studied-lawyer",
   "metadata": {},
   "source": [
    "## Numerical features"
   ]
  },
  {
   "cell_type": "markdown",
   "id": "manual-greeting",
   "metadata": {},
   "source": [
    "Only numbers can not tell us anything on it's own but visual representation of those numbers is a treasure. This section will be focused on the univariate analysis i.e. analysis of variables one at a time. We will feal with numeircal features first followed by categorical features."
   ]
  },
  {
   "cell_type": "markdown",
   "id": "rubber-convention",
   "metadata": {},
   "source": [
    "Histograms and box plots can help us understand the numerical features with regards to their distribution. They also helps us to identify the outliers (values which are too far away from normal values) and also help us to understand the probability of an event occurrence. "
   ]
  },
  {
   "cell_type": "code",
   "execution_count": 3,
   "id": "configured-cameroon",
   "metadata": {},
   "outputs": [],
   "source": [
    "# Select numerical columns data\n",
    "numerical_columns = ['Administrative', 'Administrative_Duration', 'Informational', 'Informational_Duration', \n",
    "                     'ProductRelated', 'ProductRelated_Duration', 'BounceRates', 'ExitRates', 'PageValues', \n",
    "                     'SpecialDay']\n",
    "num_df = df[numerical_columns]"
   ]
  },
  {
   "cell_type": "code",
   "execution_count": 4,
   "id": "protected-accessory",
   "metadata": {},
   "outputs": [],
   "source": [
    "# Create interactive plots\n",
    "\n",
    "# Create a widget for selecting column\n",
    "numcols = widgets.Dropdown(options = numerical_columns, value = 'Administrative', description=\"Numerial columns\")\n",
    "\n",
    "# Create plotly trace of histogram\n",
    "num_trace1 = go.Histogram(x=num_df['Administrative'], \n",
    "                         histnorm='probability', \n",
    "                         name = 'Distribution')\n",
    "\n",
    "# Create plotly trace of boc plot\n",
    "num_trace2 = go.Box(x=num_df['Administrative'], \n",
    "                   boxpoints='outliers', name = 'Quartiles representation')\n",
    "\n",
    "# Create a widget for histogram\n",
    "ng1 = go.FigureWidget(data=[num_trace1],\n",
    "                     layout = go.Layout(\n",
    "                         title = dict(text='Distribution of features')\n",
    "                     ))\n",
    "\n",
    "# Create a widget for box plot\n",
    "ng2 = go.FigureWidget(data=[num_trace2],\n",
    "                     layout = go.Layout(\n",
    "                         title = dict(text='Quartiles representation of features')\n",
    "                     ))\n",
    "\n",
    "# Create a function for observing the change in the selection\n",
    "def num_response(change):\n",
    "    \"\"\"\n",
    "    Function to update the values in the graph based on the selected column.\n",
    "    \"\"\"\n",
    "    with ng1.batch_update():\n",
    "        ng1.data[0].x = num_df[numcols.value]\n",
    "        ng1.layout.xaxis.title = 'Distribution of ' + str(numcols.value) + ' variable'\n",
    "    \n",
    "    with ng2.batch_update():\n",
    "        ng2.data[0].x = num_df[numcols.value]\n",
    "        ng2.layout.xaxis.title = numcols.value\n",
    "    \n",
    "numcols.observe(num_response, names='value')\n",
    "\n",
    "num_container = widgets.VBox([numcols, ng1, ng2])"
   ]
  },
  {
   "cell_type": "code",
   "execution_count": 5,
   "id": "forward-context",
   "metadata": {},
   "outputs": [
    {
     "data": {
      "application/vnd.jupyter.widget-view+json": {
       "model_id": "e5866576cded43e2a4f2ad9d8ae80852",
       "version_major": 2,
       "version_minor": 0
      },
      "text/plain": [
       "VBox(children=(Dropdown(description='Numerial columns', options=('Administrative', 'Administrative_Duration', …"
      ]
     },
     "metadata": {},
     "output_type": "display_data"
    }
   ],
   "source": [
    "display(num_container)"
   ]
  },
  {
   "cell_type": "markdown",
   "id": "streaming-figure",
   "metadata": {},
   "source": [
    "All the page related columns have most of the values concentrated towards 0. Bounce rates and exit rates have values near the extremes, though for both of them values exist more towards 0 than the other end. Page values and special day columns have a large number of values which are 0.  \n",
    "As for this analysis, I won't be considering any point in the columns adminstrative pages (Administrative), bounce rates (BounceRates), exit rates (ExitRates) and special day (SpecialDay) as outliers. For the remaining columns following are criteria that will be used to select and remove outliers:  \n",
    "1. Time spent on administrative pages (Administrative_Duration) - Values more than 3000 seconds.  \n",
    "2. Number of Informational pages (Informational) - Values more than 20 pages.  \n",
    "3. Time spent on informational pages(Informational_Duration) - Values more than 2500 seconds.  \n",
    "4. Number of Product related pages (ProductRelated) - Values more than 600 pages.  \n",
    "5. Time spent on product related pages (ProductRelated_Duration) - Values more than 40,000 seconds.\n",
    "6. Page values (PageValues) - Values more than 300."
   ]
  },
  {
   "cell_type": "markdown",
   "id": "significant-funeral",
   "metadata": {},
   "source": [
    "Next we can check the normality of numerical features."
   ]
  },
  {
   "cell_type": "code",
   "execution_count": 6,
   "id": "little-paint",
   "metadata": {},
   "outputs": [
    {
     "name": "stderr",
     "output_type": "stream",
     "text": [
      "/Users/pushkar/miniconda3/envs/ospi/lib/python3.8/site-packages/scipy/stats/morestats.py:1681: UserWarning:\n",
      "\n",
      "p-value may not be accurate for N > 5000.\n",
      "\n"
     ]
    },
    {
     "data": {
      "text/html": [
       "<div>\n",
       "<style scoped>\n",
       "    .dataframe tbody tr th:only-of-type {\n",
       "        vertical-align: middle;\n",
       "    }\n",
       "\n",
       "    .dataframe tbody tr th {\n",
       "        vertical-align: top;\n",
       "    }\n",
       "\n",
       "    .dataframe thead th {\n",
       "        text-align: right;\n",
       "    }\n",
       "</style>\n",
       "<table border=\"1\" class=\"dataframe\">\n",
       "  <thead>\n",
       "    <tr style=\"text-align: right;\">\n",
       "      <th></th>\n",
       "      <th>Name of the feature</th>\n",
       "      <th>SW Statistics</th>\n",
       "      <th>P-value</th>\n",
       "      <th>Is Normal</th>\n",
       "    </tr>\n",
       "  </thead>\n",
       "  <tbody>\n",
       "    <tr>\n",
       "      <th>0</th>\n",
       "      <td>Administrative</td>\n",
       "      <td>0.734400</td>\n",
       "      <td>0.0</td>\n",
       "      <td>False</td>\n",
       "    </tr>\n",
       "    <tr>\n",
       "      <th>1</th>\n",
       "      <td>Administrative_Duration</td>\n",
       "      <td>0.481695</td>\n",
       "      <td>0.0</td>\n",
       "      <td>False</td>\n",
       "    </tr>\n",
       "    <tr>\n",
       "      <th>2</th>\n",
       "      <td>Informational</td>\n",
       "      <td>0.458277</td>\n",
       "      <td>0.0</td>\n",
       "      <td>False</td>\n",
       "    </tr>\n",
       "    <tr>\n",
       "      <th>3</th>\n",
       "      <td>Informational_Duration</td>\n",
       "      <td>0.259782</td>\n",
       "      <td>0.0</td>\n",
       "      <td>False</td>\n",
       "    </tr>\n",
       "    <tr>\n",
       "      <th>4</th>\n",
       "      <td>ProductRelated</td>\n",
       "      <td>0.610410</td>\n",
       "      <td>0.0</td>\n",
       "      <td>False</td>\n",
       "    </tr>\n",
       "    <tr>\n",
       "      <th>5</th>\n",
       "      <td>ProductRelated_Duration</td>\n",
       "      <td>0.555028</td>\n",
       "      <td>0.0</td>\n",
       "      <td>False</td>\n",
       "    </tr>\n",
       "    <tr>\n",
       "      <th>6</th>\n",
       "      <td>BounceRates</td>\n",
       "      <td>0.492207</td>\n",
       "      <td>0.0</td>\n",
       "      <td>False</td>\n",
       "    </tr>\n",
       "    <tr>\n",
       "      <th>7</th>\n",
       "      <td>ExitRates</td>\n",
       "      <td>0.699234</td>\n",
       "      <td>0.0</td>\n",
       "      <td>False</td>\n",
       "    </tr>\n",
       "    <tr>\n",
       "      <th>8</th>\n",
       "      <td>PageValues</td>\n",
       "      <td>0.355064</td>\n",
       "      <td>0.0</td>\n",
       "      <td>False</td>\n",
       "    </tr>\n",
       "    <tr>\n",
       "      <th>9</th>\n",
       "      <td>SpecialDay</td>\n",
       "      <td>0.343015</td>\n",
       "      <td>0.0</td>\n",
       "      <td>False</td>\n",
       "    </tr>\n",
       "  </tbody>\n",
       "</table>\n",
       "</div>"
      ],
      "text/plain": [
       "       Name of the feature  SW Statistics  P-value Is Normal\n",
       "0           Administrative       0.734400      0.0     False\n",
       "1  Administrative_Duration       0.481695      0.0     False\n",
       "2            Informational       0.458277      0.0     False\n",
       "3   Informational_Duration       0.259782      0.0     False\n",
       "4           ProductRelated       0.610410      0.0     False\n",
       "5  ProductRelated_Duration       0.555028      0.0     False\n",
       "6              BounceRates       0.492207      0.0     False\n",
       "7                ExitRates       0.699234      0.0     False\n",
       "8               PageValues       0.355064      0.0     False\n",
       "9               SpecialDay       0.343015      0.0     False"
      ]
     },
     "execution_count": 6,
     "metadata": {},
     "output_type": "execute_result"
    }
   ],
   "source": [
    "# Perform Shapiro-Wilk test for checking the normality of the numerical features\n",
    "sw_df = pd.DataFrame(columns=['Name of the feature', 'SW Statistics', 'P-value', 'Is Normal'])\n",
    "for column in numerical_columns:\n",
    "    result = shapiro(df[column])\n",
    "    is_norm = True if result[1]>0.05 else False\n",
    "    sw_df = sw_df.append(pd.Series({'Name of the feature': column,\n",
    "                                    'SW Statistics': result[0], \n",
    "                                    'P-value':result[1], \n",
    "                                    'Is Normal':is_norm}), \n",
    "                         ignore_index=True)\n",
    "    \n",
    "sw_df"
   ]
  },
  {
   "cell_type": "markdown",
   "id": "structural-reggae",
   "metadata": {},
   "source": [
    "Shapiro-Wilk (SW) test is chosen because it has the best power for the given significance among other tests for checking normality. The null hypthesis of Shapiro-Wilk test is that the population is normally distributed.  \n",
    "Due to high power of SW test, for large number of features, it is quite sensitive to the data. This means that if number of features increase, then a slight deviation from the normal distribution becomes quite significant and hence the p-value approaches 0. To confirm the deviation from the normality is this condition, it is necessary to check Quantile-Quantile (Q-Q) plot."
   ]
  },
  {
   "cell_type": "code",
   "execution_count": 7,
   "id": "intense-butter",
   "metadata": {},
   "outputs": [
    {
     "data": {
      "application/vnd.jupyter.widget-view+json": {
       "model_id": "b26cc8f9f2fa46ed9abccbcb6fb57e84",
       "version_major": 2,
       "version_minor": 0
      },
      "text/plain": [
       "interactive(children=(Dropdown(description='x', options=('Administrative', 'Administrative_Duration', 'Informa…"
      ]
     },
     "metadata": {},
     "output_type": "display_data"
    },
    {
     "data": {
      "text/plain": [
       "<function __main__.plot_qq(x)>"
      ]
     },
     "execution_count": 7,
     "metadata": {},
     "output_type": "execute_result"
    }
   ],
   "source": [
    "# Q-Q plots for numerical features\n",
    "%matplotlib inline\n",
    "\n",
    "def plot_qq(x):\n",
    "    fig, ax = plt.subplots(figsize=(10, 8))\n",
    "    probplot = sm.ProbPlot(num_df[x], fit=True)\n",
    "    probplot.qqplot(line='s', ax=ax)\n",
    "    plt.show(fig)\n",
    "    \n",
    "widgets.interact(plot_qq, x=numerical_columns)"
   ]
  },
  {
   "cell_type": "markdown",
   "id": "external-jason",
   "metadata": {},
   "source": [
    "Based on the Shapiro-Wilk test, sample distribution of the features does not follow normal distribution i.e. none of the numerical features are normally distributed. The usual criterion is that is the p-value is less than the alpha, then the null hypothesis is rejected. Assuming alpha of 0.05 (95% confidence interval), not a single feature has a p-value greater than this and hence in every case the null hypothesis is rejected.  \n",
    "For Q-Q plots, all the points should lie on the standardized line. Thus deviation of sample ditribution from the normal distribution is further confirmed by Q-Q plots of those features."
   ]
  },
  {
   "cell_type": "markdown",
   "id": "impressive-garden",
   "metadata": {},
   "source": [
    "## Categorical features"
   ]
  },
  {
   "cell_type": "markdown",
   "id": "duplicate-winning",
   "metadata": {},
   "source": [
    "For categorical, we can check counts of available categories in each variable."
   ]
  },
  {
   "cell_type": "code",
   "execution_count": 8,
   "id": "conceptual-declaration",
   "metadata": {},
   "outputs": [],
   "source": [
    "# Select categorical features\n",
    "categorical_columns = ['OperatingSystems', 'Browser', 'Region', 'TrafficType', 'VisitorType', 'Weekend', 'Month', \n",
    "                       'Revenue']\n",
    "cat_df = df[categorical_columns]"
   ]
  },
  {
   "cell_type": "code",
   "execution_count": 9,
   "id": "hybrid-october",
   "metadata": {},
   "outputs": [],
   "source": [
    "# Create interactive plots\n",
    "\n",
    "# Create widget for selecting column\n",
    "catcols = widgets.Dropdown(options=categorical_columns, value='OperatingSystems', description='Categorical columns')\n",
    "\n",
    "# Create bar plot trace for histogram\n",
    "cat_trace1 = go.Bar(x = cat_df['OperatingSystems'].value_counts().index, \n",
    "                    y = cat_df['OperatingSystems'].value_counts().values)\n",
    "\n",
    "# Create a widget for bar plot\n",
    "cg = go.FigureWidget(data=[cat_trace1],\n",
    "                     layout=go.Layout(\n",
    "                         title = dict(text=\"Distribution of features\")\n",
    "                     ))\n",
    "\n",
    "# Create function for observing the change in the column name\n",
    "def cat_response(change):\n",
    "    with cg.batch_update():\n",
    "        cg.data[0].x = cat_df[catcols.value].value_counts().index\n",
    "        cg.data[0].y = cat_df[catcols.value].value_counts().values\n",
    "        cg.layout.xaxis.title = 'Distribution of ' + str(catcols.value) + ' variable'\n",
    "        \n",
    "catcols.observe(cat_response, names='value')\n",
    "\n",
    "cat_container = widgets.VBox([catcols, cg])"
   ]
  },
  {
   "cell_type": "code",
   "execution_count": 10,
   "id": "diagnostic-kenya",
   "metadata": {},
   "outputs": [
    {
     "data": {
      "application/vnd.jupyter.widget-view+json": {
       "model_id": "a33c96c3a7634ac59eb8dee29230569f",
       "version_major": 2,
       "version_minor": 0
      },
      "text/plain": [
       "VBox(children=(Dropdown(description='Categorical columns', options=('OperatingSystems', 'Browser', 'Region', '…"
      ]
     },
     "metadata": {},
     "output_type": "display_data"
    }
   ],
   "source": [
    "display(cat_container)"
   ]
  },
  {
   "cell_type": "markdown",
   "id": "threaded-boutique",
   "metadata": {},
   "source": [
    "Beginning from the operating systems, operating systems 5, 6 and 7 have very less data but can't be considered as outliers. Operating System 2 is used by most of the visitors.  \n",
    "Then we have browsers. There is no data for browser number 9. Though browser number 11 and 12 have less data, they can't be considered as outliers.  \n",
    "The number of visitors are high from region number 1 and least from region number 5.  \n",
    "Traffic type has the most of number of categories. Type 11, 16 and 17 does not have any data. Mostly the visitors are of traffic type 1.  \n",
    "Most of the visitors are of visitor type returning. Though as compared to returning visitors, new visitors are too less in number.  \n",
    "Most of the users shop in the weekends.\n",
    "Data is available for only 10 months. The missing months are January and April. Most of the shopping takes place in the months of May and November. These are closely floowed by March and December.  \n",
    "Most of visitors does not finalize the transaction. The ratio of the transacting users to the non-transacting users in approximately 1:5."
   ]
  }
 ],
 "metadata": {
  "kernelspec": {
   "display_name": "Python 3",
   "language": "python",
   "name": "python3"
  },
  "language_info": {
   "codemirror_mode": {
    "name": "ipython",
    "version": 3
   },
   "file_extension": ".py",
   "mimetype": "text/x-python",
   "name": "python",
   "nbconvert_exporter": "python",
   "pygments_lexer": "ipython3",
   "version": "3.8.8"
  }
 },
 "nbformat": 4,
 "nbformat_minor": 5
}
